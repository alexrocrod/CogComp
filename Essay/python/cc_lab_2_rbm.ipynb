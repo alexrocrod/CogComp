{
  "cells": [
    {
      "cell_type": "markdown",
      "metadata": {
        "id": "5ssH1fXDXgRB"
      },
      "source": [
        "# Cognition & Computation - Lab 2 ----- CHANGED TO USE EMNIST BALANCED"
      ]
    },
    {
      "cell_type": "code",
      "execution_count": 2,
      "metadata": {
        "id": "sEx-vmM5XCRx"
      },
      "outputs": [],
      "source": [
        "def get_dbn_library():\n",
        "  files = [\"DBN.py\", \"RBM.py\"]\n",
        "  repository_url = \"https://raw.githubusercontent.com/flavio2018/Deep-Belief-Network-pytorch/master/\"\n",
        "  for file in files:\n",
        "    ! wget -O {file} {repository_url}{file}"
      ]
    },
    {
      "cell_type": "code",
      "execution_count": 3,
      "metadata": {
        "id": "LgV5LljfXz6c"
      },
      "outputs": [],
      "source": [
        "%%capture\n",
        "get_dbn_library()"
      ]
    },
    {
      "cell_type": "code",
      "execution_count": 4,
      "metadata": {
        "id": "K9zAAXswX6W_"
      },
      "outputs": [],
      "source": [
        "import math\n",
        "import matplotlib.pyplot as plt\n",
        "import numpy as np\n",
        "import torch\n",
        "import torchvision as tv\n",
        "\n",
        "from DBN import DBN"
      ]
    },
    {
      "cell_type": "code",
      "execution_count": 5,
      "metadata": {
        "id": "sQ9eMI7bYEUZ"
      },
      "outputs": [],
      "source": [
        "%%capture\n",
        "emnist_train = tv.datasets.EMNIST('data/','balanced', train=True, download=True,\n",
        "                                         transform=tv.transforms.Compose(\n",
        "                                                  [tv.transforms.ToTensor()]\n",
        "                                         ))\n",
        "\n",
        "emnist_test = tv.datasets.EMNIST(\"data/\", 'balanced',\n",
        "                                train=False,\n",
        "                                download=True,\n",
        "                                transform=tv.transforms.Compose(\n",
        "                                        [tv.transforms.ToTensor()]\n",
        "                                ))"
      ]
    },
    {
      "cell_type": "code",
      "execution_count": 6,
      "metadata": {
        "id": "D6wUwWYUYGT7"
      },
      "outputs": [],
      "source": [
        "emnist_train.data = (emnist_train.data.type(torch.FloatTensor)/255)\n",
        "emnist_test.data = (emnist_test.data.type(torch.FloatTensor)/255)\n",
        "\n",
        "nclasses = 47"
      ]
    },
    {
      "cell_type": "code",
      "execution_count": 7,
      "metadata": {
        "id": "SBWXVpfkYI2Q"
      },
      "outputs": [],
      "source": [
        "dbn_emnist = DBN(visible_units=28*28,\n",
        "                hidden_units=[500],\n",
        "                k=1,\n",
        "                learning_rate=0.1,\n",
        "                learning_rate_decay=False,\n",
        "                initial_momentum=0.5,\n",
        "                final_momentum=0.9,\n",
        "                weight_decay=0.0002,\n",
        "                xavier_init=False,\n",
        "                increase_to_cd_k=False,\n",
        "                # use_gpu=False)\n",
        "                use_gpu=True)"
      ]
    },
    {
      "cell_type": "code",
      "execution_count": 8,
      "metadata": {
        "colab": {
          "base_uri": "https://localhost:8080/"
        },
        "id": "0BfmZ39NYLTV",
        "outputId": "223e5022-55d1-43cc-f862-7d9d5e3c2434"
      },
      "outputs": [
        {
          "output_type": "stream",
          "name": "stdout",
          "text": [
            "--------------------\n",
            "Training RBM layer 1\n",
            "|Epoch |avg_rec_err |std_rec_err  |mean_grad |std_grad  |\n",
            "|10    |1.2703   |0.0386   |308.1731 |6.3662   |\n",
            "|20    |1.2106   |0.0353   |290.2565 |5.9859   |\n",
            "|30    |1.1918   |0.0353   |284.0421 |5.6013   |\n",
            "|40    |1.1845   |0.0342   |281.8998 |5.3059   |\n"
          ]
        }
      ],
      "source": [
        "num_epochs = 40\n",
        "batch_size = 125\n",
        "\n",
        "dbn_emnist.train_static(\n",
        "    emnist_train.data,\n",
        "    emnist_train.targets,\n",
        "    num_epochs,\n",
        "    batch_size\n",
        ")"
      ]
    },
    {
      "cell_type": "markdown",
      "metadata": {
        "id": "6zRN90izXq9A"
      },
      "source": [
        "## Linear readouts"
      ]
    },
    {
      "cell_type": "code",
      "execution_count": 9,
      "metadata": {
        "id": "a0q1lyJEblFI"
      },
      "outputs": [],
      "source": [
        "def _move_parameters_to_cpu(dbn_emnist):\n",
        "  for layer in dbn_emnist.rbm_layers:\n",
        "    layer.W = layer.W.cpu()\n",
        "    layer.h_bias = layer.h_bias.cpu()\n",
        "    layer.v_bias = layer.v_bias.cpu()"
      ]
    },
    {
      "cell_type": "code",
      "execution_count": 10,
      "metadata": {
        "id": "vopmVa8Nbmqx"
      },
      "outputs": [],
      "source": [
        "_move_parameters_to_cpu(dbn_emnist)"
      ]
    },
    {
      "cell_type": "markdown",
      "metadata": {
        "id": "UI68htznZWBW"
      },
      "source": [
        "Let's first compute the hidden representations:"
      ]
    },
    {
      "cell_type": "code",
      "execution_count": 11,
      "metadata": {
        "id": "YITxqUDaZVa-"
      },
      "outputs": [],
      "source": [
        "def _get_kth_layer_repr(input, k):\n",
        "  flattened_input = input.view((input.shape[0], -1)).type(torch.FloatTensor)\n",
        "  hidden_repr, __ = dbn_emnist.rbm_layers[k].to_hidden(flattened_input)  # here we access the RBM object\n",
        "  return hidden_repr"
      ]
    },
    {
      "cell_type": "code",
      "execution_count": 12,
      "metadata": {
        "id": "_T8nkJP8Zd-1"
      },
      "outputs": [],
      "source": [
        "hidden_repr_layer_1 = _get_kth_layer_repr(emnist_train.data, 0)"
      ]
    },
    {
      "cell_type": "code",
      "execution_count": 13,
      "metadata": {
        "id": "aY50h0yKYbsy"
      },
      "outputs": [],
      "source": [
        "class Perceptron(torch.nn.Module):\n",
        "  def __init__(self, rbm_layer_size):\n",
        "    super().__init__()\n",
        "    self.linear = torch.nn.Linear(rbm_layer_size, nclasses)\n",
        "\n",
        "  def forward(self, x):\n",
        "    return self.linear(x)"
      ]
    },
    {
      "cell_type": "markdown",
      "metadata": {
        "id": "Wi4FlrRMYgus"
      },
      "source": [
        "### First hidden layer representations"
      ]
    },
    {
      "cell_type": "markdown",
      "metadata": {
        "id": "zu3kjq3MY2xz"
      },
      "source": [
        "Let's train the readout layer:"
      ]
    },
    {
      "cell_type": "code",
      "execution_count": 14,
      "metadata": {
        "id": "UZ-6JyECcVdM"
      },
      "outputs": [],
      "source": [
        "def _train(network, input, epochs=1000):\n",
        "  print_every_n_epochs = 100 if epochs >= 1000 else 10\n",
        "  optimizer = torch.optim.SGD(network.parameters(), lr=0.05)\n",
        "  loss_fn = torch.nn.CrossEntropyLoss()\n",
        "\n",
        "  for epoch in range(epochs):\n",
        "    optimizer.zero_grad()\n",
        "    predictions = network(input).squeeze()\n",
        "    loss = loss_fn(predictions, emnist_train.targets)\n",
        "    loss.backward()\n",
        "    optimizer.step()\n",
        "    if epoch % print_every_n_epochs == 0:\n",
        "      print(\"epoch {}/{}, loss = {:.6f}\".format(epoch, epochs, loss))"
      ]
    },
    {
      "cell_type": "code",
      "execution_count": 15,
      "metadata": {
        "colab": {
          "base_uri": "https://localhost:8080/"
        },
        "id": "-Z9mkfGCd5A9",
        "outputId": "dbdf48f1-5fba-4611-dcc2-0917b1d7b510"
      },
      "outputs": [
        {
          "output_type": "stream",
          "name": "stdout",
          "text": [
            "epoch 0/1500, loss = 3.878286\n",
            "epoch 100/1500, loss = 2.874106\n",
            "epoch 200/1500, loss = 2.320529\n",
            "epoch 300/1500, loss = 2.001490\n",
            "epoch 400/1500, loss = 1.804404\n",
            "epoch 500/1500, loss = 1.672775\n",
            "epoch 600/1500, loss = 1.578583\n",
            "epoch 700/1500, loss = 1.507327\n",
            "epoch 800/1500, loss = 1.451038\n",
            "epoch 900/1500, loss = 1.405053\n",
            "epoch 1000/1500, loss = 1.366486\n",
            "epoch 1100/1500, loss = 1.333461\n",
            "epoch 1200/1500, loss = 1.304704\n",
            "epoch 1300/1500, loss = 1.279318\n",
            "epoch 1400/1500, loss = 1.256654\n"
          ]
        }
      ],
      "source": [
        "rbm_layer_size = dbn_emnist.rbm_layers[0].W.shape[1]\n",
        "perceptron_first_hidden = Perceptron(rbm_layer_size)\n",
        "_train(perceptron_first_hidden, hidden_repr_layer_1, epochs=1500)"
      ]
    },
    {
      "cell_type": "markdown",
      "metadata": {
        "id": "EdpbUP0QYwkV"
      },
      "source": [
        "Let's test it on the hold-out dataset:"
      ]
    },
    {
      "cell_type": "code",
      "execution_count": 16,
      "metadata": {
        "id": "8ZQao7P-Y9ed"
      },
      "outputs": [],
      "source": [
        "hidden_repr_layer_1_test = _get_kth_layer_repr(emnist_test.data, 0)"
      ]
    },
    {
      "cell_type": "code",
      "execution_count": 17,
      "metadata": {
        "id": "9ChSTek0ZBD2"
      },
      "outputs": [],
      "source": [
        "predictions_first_hidden = perceptron_first_hidden(hidden_repr_layer_1_test)"
      ]
    },
    {
      "cell_type": "code",
      "execution_count": 18,
      "metadata": {
        "id": "RsHYL6pAZCeH"
      },
      "outputs": [],
      "source": [
        "def _compute_accuracy(predictions, targets):\n",
        "  predictions_indices = predictions.max(axis=1).indices  # convert probabilities to indices\n",
        "  accuracy = (predictions_indices == targets).sum() / len(targets)\n",
        "  return accuracy.item()"
      ]
    },
    {
      "cell_type": "code",
      "execution_count": 19,
      "metadata": {
        "colab": {
          "base_uri": "https://localhost:8080/"
        },
        "id": "b9h2XaBlZHdo",
        "outputId": "a7383bc8-6fae-496a-dddd-f3efb46a6c6d"
      },
      "outputs": [
        {
          "output_type": "execute_result",
          "data": {
            "text/plain": [
              "0.6690425276756287"
            ]
          },
          "metadata": {},
          "execution_count": 19
        }
      ],
      "source": [
        "_compute_accuracy(predictions_first_hidden, emnist_test.targets)"
      ]
    },
    {
      "cell_type": "markdown",
      "metadata": {
        "id": "690R4NNKfNhW"
      },
      "source": [
        "## Comparison with a feedforward model"
      ]
    },
    {
      "cell_type": "markdown",
      "metadata": {
        "id": "9CYrA1XsgYxG"
      },
      "source": [
        "Let's now train a simple feedforward neural network with the same structure as the RBM, i.e. with one hidden layer with `500` units.\n",
        "\n",
        "We want to compare a network that is trained end-to-end to solve a classification task with a simple classifier that solves the same task using representations of input data learned in an *unsupervised* way."
      ]
    },
    {
      "cell_type": "code",
      "execution_count": 20,
      "metadata": {
        "id": "NlR9LznufMp_"
      },
      "outputs": [],
      "source": [
        "class Feedforward(torch.nn.Module):\n",
        "  def __init__(self, first_hidden_layer_size):\n",
        "    super().__init__()\n",
        "    self.first_hidden = torch.nn.Linear(784, first_hidden_layer_size)\n",
        "    self.output = torch.nn.Linear(first_hidden_layer_size, nclasses)\n",
        "\n",
        "  def forward(self, input):\n",
        "    relu = torch.nn.ReLU()\n",
        "    first_hidden_repr = relu(self.first_hidden(input))\n",
        "    output = self.output(first_hidden_repr)\n",
        "    return output"
      ]
    },
    {
      "cell_type": "code",
      "execution_count": 21,
      "metadata": {
        "id": "Upl8aiD-gqP3"
      },
      "outputs": [],
      "source": [
        "ffnn = Feedforward(500)"
      ]
    },
    {
      "cell_type": "markdown",
      "metadata": {
        "id": "nmueBeBECUUA"
      },
      "source": [
        "We choose the number of epochs to match the training time of the RBM and the readout layer combined."
      ]
    },
    {
      "cell_type": "code",
      "execution_count": 22,
      "metadata": {
        "colab": {
          "base_uri": "https://localhost:8080/"
        },
        "id": "ccEZ2ZMFiBrX",
        "outputId": "3aa76e4b-8db2-42db-ec72-60aaa4520965"
      },
      "outputs": [
        {
          "output_type": "stream",
          "name": "stdout",
          "text": [
            "epoch 0/120, loss = 3.854245\n",
            "epoch 10/120, loss = 3.820453\n",
            "epoch 20/120, loss = 3.786776\n",
            "epoch 30/120, loss = 3.751488\n",
            "epoch 40/120, loss = 3.713459\n",
            "epoch 50/120, loss = 3.671875\n",
            "epoch 60/120, loss = 3.626162\n",
            "epoch 70/120, loss = 3.575943\n",
            "epoch 80/120, loss = 3.520988\n",
            "epoch 90/120, loss = 3.461192\n",
            "epoch 100/120, loss = 3.396581\n",
            "epoch 110/120, loss = 3.327369\n"
          ]
        }
      ],
      "source": [
        "temp = emnist_train.data.size()[0]\n",
        "_train(ffnn, emnist_train.data.reshape((temp, 784)), epochs=120)"
      ]
    },
    {
      "cell_type": "code",
      "execution_count": 27,
      "metadata": {
        "id": "_lDbHNfqiTgo"
      },
      "outputs": [],
      "source": [
        "predictions_ffnn = ffnn(emnist_test.data.reshape((round(temp/6), 784)))"
      ]
    },
    {
      "cell_type": "code",
      "execution_count": 28,
      "metadata": {
        "colab": {
          "base_uri": "https://localhost:8080/"
        },
        "id": "CExo7uyiiVgr",
        "outputId": "d47fdd16-6204-4f6e-dfe8-12401e11d510"
      },
      "outputs": [
        {
          "output_type": "execute_result",
          "data": {
            "text/plain": [
              "0.3959042429924011"
            ]
          },
          "metadata": {},
          "execution_count": 28
        }
      ],
      "source": [
        "_compute_accuracy(predictions_ffnn, emnist_test.targets)"
      ]
    },
    {
      "cell_type": "markdown",
      "metadata": {
        "id": "73eq5eNPv4xZ"
      },
      "source": [
        "## Robustness to noise"
      ]
    },
    {
      "cell_type": "markdown",
      "metadata": {
        "id": "oitTC0d4v6sx"
      },
      "source": [
        "We will now inject some noise in the input images and see how much the representations learned by the RBM are robust to noise."
      ]
    },
    {
      "cell_type": "code",
      "execution_count": 29,
      "metadata": {
        "id": "1EYKuRtVwLIs"
      },
      "outputs": [],
      "source": [
        "def _inject_noise(emnist_data, noise_level):\n",
        "  random_gaussian_tensor = torch.randn(emnist_data.shape)/6.6 + .6\n",
        "  probability_tensor = torch.ones(emnist_data.shape)*noise_level\n",
        "  mask_tensor = torch.bernoulli(probability_tensor)\n",
        "  return emnist_data - mask_tensor * emnist_data + mask_tensor * random_gaussian_tensor"
      ]
    },
    {
      "cell_type": "markdown",
      "metadata": {
        "id": "A0tSj95s0HfR"
      },
      "source": [
        "Let's see what a noisy image looks like:"
      ]
    },
    {
      "cell_type": "code",
      "execution_count": 30,
      "metadata": {
        "colab": {
          "base_uri": "https://localhost:8080/",
          "height": 265
        },
        "id": "YnnaCxzRzFX1",
        "outputId": "b5cf056a-d76c-49a5-b6b8-33ad69db6a9f"
      },
      "outputs": [
        {
          "output_type": "display_data",
          "data": {
            "image/png": "[encoded data removed]",
            "text/plain": [
              "<Figure size 432x288 with 1 Axes>"
            ]
          },
          "metadata": {
            "needs_background": "light"
          }
        }
      ],
      "source": [
        "noise_level = 0.3\n",
        "emnist_test_with_noise = _inject_noise(emnist_test.data, noise_level)\n",
        "__ = plt.imshow(emnist_test_with_noise[0].reshape(28, 28), cmap=\"gray\")"
      ]
    },
    {
      "cell_type": "markdown",
      "metadata": {
        "id": "IO9V8x1CiaR4"
      },
      "source": [
        "We will now compute the hidden representations for the noisy images using the RBM. Then, we will use the models that we trained on the representations without noise to classify the noisy ones."
      ]
    },
    {
      "cell_type": "code",
      "execution_count": 36,
      "metadata": {
        "id": "vprSgIGKxPRS"
      },
      "outputs": [],
      "source": [
        "temp2 = round(temp/6)\n",
        "def _get_accuracy_values_at_noise_level(noise_level):\n",
        "  emnist_test_with_noise = _inject_noise(emnist_test.data, noise_level)\n",
        "  hidden_repr_layer_1_noisy = _get_kth_layer_repr(emnist_test_with_noise, 0)  # here we compute the representations\n",
        "  predictions_first_hidden_noisy = perceptron_first_hidden(hidden_repr_layer_1_noisy)  # here we use the readout layer\n",
        "  predictions_ffnn_noisy = ffnn(emnist_test_with_noise.reshape((temp2, 784)))\n",
        "  accuracy_first_hidden = _compute_accuracy(predictions_first_hidden_noisy, emnist_test.targets)\n",
        "  accuracy_ffnn = _compute_accuracy(predictions_ffnn_noisy, emnist_test.targets)\n",
        "  return accuracy_first_hidden, accuracy_ffnn"
      ]
    },
    {
      "cell_type": "code",
      "execution_count": 37,
      "metadata": {
        "colab": {
          "base_uri": "https://localhost:8080/"
        },
        "id": "oTiusj9Dzp8X",
        "outputId": "9dd0cb2f-2010-4a14-c281-a1db17cb02e5"
      },
      "outputs": [
        {
          "output_type": "execute_result",
          "data": {
            "text/plain": [
              "(0.4867021143436432, 0.32654255628585815)"
            ]
          },
          "metadata": {},
          "execution_count": 37
        }
      ],
      "source": [
        "_get_accuracy_values_at_noise_level(0.2)"
      ]
    },
    {
      "cell_type": "markdown",
      "metadata": {
        "id": "dKZPC2Wx0rH_"
      },
      "source": [
        "Let's now get an overview of the robustness of the representations to different levels of noise:"
      ]
    },
    {
      "cell_type": "code",
      "execution_count": 38,
      "metadata": {
        "id": "eUwuzAQYqIyB"
      },
      "outputs": [],
      "source": [
        "def plot_noise_robustness_curves(noise_levels):\n",
        "  accuracy_values_first_hidden = []\n",
        "  accuracy_values_ffnn = []\n",
        "\n",
        "  for noise_level in noise_levels:\n",
        "    accuracy_first_hidden, accuracy_ffnn = _get_accuracy_values_at_noise_level(noise_level)\n",
        "    accuracy_values_first_hidden.append(accuracy_first_hidden)\n",
        "    accuracy_values_ffnn.append(accuracy_ffnn)\n",
        "\n",
        "  fig, ax = plt.subplots()\n",
        "  ax.plot(range(len(noise_levels)), accuracy_values_first_hidden)\n",
        "  ax.plot(range(len(noise_levels)), accuracy_values_ffnn)\n",
        "\n",
        "  ax.set_title(\"Robustness to noise\")\n",
        "  ax.set_xlabel(\"Noise level (%)\")\n",
        "  ax.set_ylabel(\"Accuracy\")\n",
        "  plt.xticks(range(len(noise_levels)), [int(l*100) for l in noise_levels])\n",
        "  plt.legend([\"First hidden\", \"FFNN\"])"
      ]
    },
    {
      "cell_type": "code",
      "execution_count": 39,
      "metadata": {
        "colab": {
          "base_uri": "https://localhost:8080/",
          "height": 295
        },
        "id": "U63ZIXbKy2DC",
        "outputId": "012d3256-04fe-48fb-8091-8f183b534b3a"
      },
      "outputs": [
        {
          "output_type": "display_data",
          "data": {
            "image/png": "[encoded data removed]",
            "text/plain": [
              "<Figure size 432x288 with 1 Axes>"
            ]
          },
          "metadata": {
            "needs_background": "light"
          }
        }
      ],
      "source": [
        "noise_levels = [0, 0.1, 0.2, 0.3, 0.4, 0.5]\n",
        "plot_noise_robustness_curves(noise_levels)"
      ]
    },
    {
      "cell_type": "markdown",
      "metadata": {
        "id": "fC71fHwV6zEr"
      },
      "source": [
        "## Contacts\n",
        "\n",
        "- 📧 flavio.petruzzellis@phd.unipd.it\n",
        "- 💬 [Moodle forum](https://elearning.unipd.it/math/mod/forum/view.php?id=36439)"
      ]
    }
  ],
  "metadata": {
    "accelerator": "GPU",
    "colab": {
      "collapsed_sections": [],
      "name": "cc-lab-2-rbm.ipynb",
      "provenance": []
    },
    "kernelspec": {
      "display_name": "Python 3",
      "name": "python3"
    },
    "language_info": {
      "codemirror_mode": {
        "name": "ipython",
        "version": 3
      },
      "file_extension": ".py",
      "mimetype": "text/x-python",
      "name": "python",
      "nbconvert_exporter": "python",
      "pygments_lexer": "ipython3",
      "version": "3.8.10"
    }
  },
  "nbformat": 4,
  "nbformat_minor": 0
}