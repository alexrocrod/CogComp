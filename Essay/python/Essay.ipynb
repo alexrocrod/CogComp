{
  "cells": [
    {
      "cell_type": "markdown",
      "metadata": {
        "id": "ca4MFrFMflo_"
      },
      "source": [
        "# Essay (all labs together)"
      ]
    },
    {
      "cell_type": "markdown",
      "metadata": {
        "id": "yozcoTNUS8Dq"
      },
      "source": [
        "To start with, let's download some scripts from a GitHub repository that implement a DBN in PyTorch."
      ]
    },
    {
      "cell_type": "code",
      "execution_count": 8,
      "metadata": {
        "id": "9WT6bS8EAhSH"
      },
      "outputs": [],
      "source": [
        "def get_dbn_library():\n",
        "  files = [\"DBN.py\", \"RBM.py\"]\n",
        "  repository_url = \"https://raw.githubusercontent.com/flavio2018/Deep-Belief-Network-pytorch/master/\"\n",
        "  for file in files:\n",
        "    ! wget -O {file} {repository_url}{file}"
      ]
    },
    {
      "cell_type": "code",
      "execution_count": 9,
      "metadata": {
        "id": "gz7ZE9hzBPGM"
      },
      "outputs": [],
      "source": [
        "%%capture\n",
        "get_dbn_library()"
      ]
    },
    {
      "cell_type": "code",
      "execution_count": 10,
      "metadata": {
        "id": "0wh5GYZJeHTQ"
      },
      "outputs": [],
      "source": [
        "import matplotlib.pyplot as plt\n",
        "import math\n",
        "import numpy as np\n",
        "import pandas as pd\n",
        "import scipy.cluster as cluster\n",
        "import torch\n",
        "import torch.nn.functional as functional\n",
        "import tqdm\n",
        "import torchvision as tv\n",
        "\n",
        "from DBN import DBN"
      ]
    },
    {
      "cell_type": "markdown",
      "metadata": {
        "id": "BOzfNUC0TKaa"
      },
      "source": [
        "Then, let's download the EMNIST dataset instead of MNIST."
      ]
    },
    {
      "cell_type": "code",
      "execution_count": 11,
      "metadata": {
        "id": "n8gn0C-yeKqj"
      },
      "outputs": [],
      "source": [
        "%%capture\n",
        "emnist_train = tv.datasets.EMNIST('data/','balanced', train=True, download=True,\n",
        "                                         transform=tv.transforms.Compose(\n",
        "                                                  [tv.transforms.ToTensor()]\n",
        "                                         ))\n",
        "\n",
        "emnist_test = tv.datasets.EMNIST(\"data/\", 'balanced',\n",
        "                                train=False,\n",
        "                                download=True,\n",
        "                                transform=tv.transforms.Compose(\n",
        "                                        [tv.transforms.ToTensor()]\n",
        "                                ))"
      ]
    },
    {
      "cell_type": "code",
      "execution_count": 12,
      "metadata": {
        "id": "xXfxa1Pj900v"
      },
      "outputs": [],
      "source": [
        "emnist_train.data = (emnist_train.data.type(torch.FloatTensor)/255)\n",
        "emnist_test.data = (emnist_test.data.type(torch.FloatTensor)/255)\n",
        "\n",
        "nclasses = 47"
      ]
    },
    {
      "cell_type": "code",
      "execution_count": 13,
      "metadata": {
        "colab": {
          "base_uri": "https://localhost:8080/",
          "height": 300
        },
        "id": "f31SHuzRA_WR",
        "outputId": "9c65c3e9-7b33-487a-d094-02bacc383bd8"
      },
      "outputs": [
        {
          "output_type": "stream",
          "name": "stdout",
          "text": [
            "The number shown is the number: 36\n",
            "The number shown is the letter: $\n"
          ]
        },
        {
          "output_type": "display_data",
          "data": {
            "image/png": "[encoded data removed]",
            "text/plain": [
              "<Figure size 432x288 with 1 Axes>"
            ]
          },
          "metadata": {
            "needs_background": "light"
          }
        }
      ],
      "source": [
        "idx = 1 # 5 original (weird)\n",
        "img = emnist_train.data[idx]\n",
        "print(\"The number shown is the number: {}\".format(emnist_train.targets[idx]) )\n",
        "print(\"The number shown is the letter: {}\".format(chr(emnist_train.targets[idx])) )\n",
        "plt.imshow(img , cmap = 'gray')\n",
        "plt.show()\n",
        "\n",
        "# idx = 1 # 5 original (weird)\n",
        "# img = emnist_test.data[idx]\n",
        "# print(\"The number shown is the number: {}\".format(emnist_test.targets[idx]) )\n",
        "# print(\"The number shown is the letter: {}\".format(chr(emnist_test.targets[idx])) )\n",
        "# plt.imshow(img , cmap = 'gray')\n",
        "# plt.show()"
      ]
    },
    {
      "cell_type": "markdown",
      "metadata": {
        "id": "nL2JId-j3JS_"
      },
      "source": [
        "Let's create a training set and a test set, which we will use later:"
      ]
    },
    {
      "cell_type": "code",
      "execution_count": 14,
      "metadata": {
        "id": "mdoJ87pIed0K"
      },
      "outputs": [],
      "source": [
        "emnist_data_train = emnist_train.data[10000:, :]\n",
        "emnist_targets_train = emnist_train.targets[10000:]\n",
        "\n",
        "emnist_data_test = emnist_train.data[:10000, :]\n",
        "emnist_targets_test = emnist_train.targets[:10000]"
      ]
    },
    {
      "cell_type": "markdown",
      "metadata": {
        "id": "EXsM-qZ6fxGk"
      },
      "source": [
        "## Training a DBN\n",
        "Quick recall from the theory: \n",
        "- a Deep Belief Network is a stack of Restricted Boltzmann Machines, another kind of energy-based model;\n",
        "- they are *unsupervised* deep learning architectures that learn a probability distribution that could have generated the training data;\n",
        "- this means they can be used to run both forwards and backwards passes through the architecture, to compute either hidden representations, or \"prototypical\" examples of a class based on the learned probability distributions;\n",
        "- they are trained using an algorithm called *contrastive divergence*, whose goal is to reduce the difference between the learned probability distribution and the true one.\n",
        "\n",
        "![dbn-medium.png](data:image/png;base64,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)"
      ]
    },
    {
      "cell_type": "code",
      "execution_count": 15,
      "metadata": {
        "id": "cd-FW3vDfFTi"
      },
      "outputs": [],
      "source": [
        "dbn_emnist = DBN(visible_units=28*28,\n",
        "                hidden_units=[500, 500],\n",
        "                k=1,\n",
        "                learning_rate=0.1,\n",
        "                learning_rate_decay=False,\n",
        "                initial_momentum=0.5,\n",
        "                final_momentum=0.9,\n",
        "                weight_decay=0.00002,\n",
        "                xavier_init=False,\n",
        "                increase_to_cd_k=False,\n",
        "                # use_gpu=False)\n",
        "                use_gpu=True)"
      ]
    },
    {
      "cell_type": "markdown",
      "metadata": {
        "id": "vt6GUs-WTdMH"
      },
      "source": [
        "Let's train the network:"
      ]
    },
    {
      "cell_type": "code",
      "execution_count": 16,
      "metadata": {
        "colab": {
          "base_uri": "https://localhost:8080/"
        },
        "id": "MLZx-MBTfIJa",
        "outputId": "aa4451f0-6339-4ec8-9b87-ff8c1713cbc8"
      },
      "outputs": [
        {
          "output_type": "stream",
          "name": "stdout",
          "text": [
            "--------------------\n",
            "Training RBM layer 1\n",
            "|Epoch |avg_rec_err |std_rec_err  |mean_grad |std_grad  |\n",
            "|10    |1.0310   |0.0346   |323.8951 |6.1841   |\n",
            "|20    |0.9744   |0.0324   |300.8839 |5.3492   |\n",
            "|30    |0.9582   |0.0305   |295.3505 |4.9544   |\n",
            "|40    |0.9506   |0.0298   |292.6450 |5.3946   |\n",
            "|50    |0.9466   |0.0313   |291.1433 |5.4301   |\n",
            "--------------------\n",
            "Training RBM layer 2\n",
            "|Epoch |avg_rec_err |std_rec_err  |mean_grad |std_grad  |\n",
            "|10    |1.0858   |0.0315   |221.3412 |3.1763   |\n",
            "|20    |1.0299   |0.0299   |214.5307 |2.9967   |\n",
            "|30    |1.0159   |0.0291   |213.1542 |2.9374   |\n",
            "|40    |1.0100   |0.0294   |212.3733 |3.3031   |\n",
            "|50    |1.0072   |0.0288   |212.0903 |3.1332   |\n"
          ]
        }
      ],
      "source": [
        "num_epochs = 50\n",
        "batch_size = 100\n",
        "\n",
        "dbn_emnist.train_static(\n",
        "    emnist_data_train,\n",
        "    emnist_targets_train,\n",
        "    num_epochs,\n",
        "    batch_size\n",
        ")"
      ]
    },
    {
      "cell_type": "markdown",
      "metadata": {
        "id": "63Bgfmy6f1Lz"
      },
      "source": [
        "## Visualizing receptive fields"
      ]
    },
    {
      "cell_type": "markdown",
      "metadata": {
        "id": "gRgPDAcMGUeI"
      },
      "source": [
        "After training the network, we are now going to visualize the learned weights. In order to do so, we will plot some of the weights in a picture of the same size of the MNIST images we used for training. In this way, we will see what parts of an image trigger the unit represented by a specific weight vector.\n",
        "\n",
        "It will also be useful to apply a threshold on the learned weights, in order to make the plots less noisy."
      ]
    },
    {
      "cell_type": "code",
      "execution_count": 24,
      "metadata": {
        "id": "ESF0155p1jFx"
      },
      "outputs": [],
      "source": [
        "def _move_parameters_to_cpu(dbn_mnist):\n",
        "  for layer in dbn_mnist.rbm_layers:\n",
        "    layer.W = layer.W.cpu()\n",
        "    layer.h_bias = layer.h_bias.cpu()\n",
        "    layer.v_bias = layer.v_bias.cpu()"
      ]
    },
    {
      "cell_type": "code",
      "execution_count": 25,
      "metadata": {
        "id": "yoCEyTVZ18Mo"
      },
      "outputs": [],
      "source": [
        "_move_parameters_to_cpu(dbn_emnist)"
      ]
    },
    {
      "cell_type": "code",
      "execution_count": 19,
      "metadata": {
        "id": "CoOsMRsglkSW"
      },
      "outputs": [],
      "source": [
        "# def _apply_threshold(weights, threshold=0):\n",
        "#   return weights * (abs(weights) > threshold)\n",
        "  \n",
        "# def _plot_layer_receptive_fields(weights):\n",
        "#   num_subplots = nclasses*nclasses\n",
        "#   n_rows_cols = int(math.sqrt(num_subplots))\n",
        "#   fig, axes = plt.subplots(n_rows_cols, n_rows_cols, sharex=True, sharey=True, figsize=(10, 10))\n",
        "#   for i in range(num_subplots):\n",
        "#     print(i)\n",
        "#     row = i % n_rows_cols\n",
        "#     col = i // n_rows_cols\n",
        "#     axes[row, col].imshow(weights[i,:].reshape((28,28)), cmap=plt.cm.gray)  # here we select the weights we want to plot"
      ]
    },
    {
      "cell_type": "code",
      "execution_count": 20,
      "metadata": {
        "id": "eC0gNafVf0TS"
      },
      "outputs": [],
      "source": [
        "# learned_weights_layer_1 = dbn_emnist.rbm_layers[0].W.transpose(0,1).numpy()\n",
        "# learned_weights_layer_1 = _apply_threshold(learned_weights_layer_1, .1)\n",
        "\n",
        "# _plot_layer_receptive_fields(learned_weights_layer_1)"
      ]
    },
    {
      "cell_type": "markdown",
      "metadata": {
        "id": "JsOGX_72V0Li"
      },
      "source": [
        "The weights in the second hidden layer have dimensionality `(529, 324)`, i.e. they are vectors of `324` elements associated to each of the `529` nodes of the first layer. Therefore, we will need to project each of the vectors in a space of dimensionality `784` (`28`x`28`) in order to visualize them as images."
      ]
    },
    {
      "cell_type": "code",
      "execution_count": 21,
      "metadata": {
        "id": "L41a_EA9jszA"
      },
      "outputs": [],
      "source": [
        "# learned_weights_layer_1 = dbn_emnist.rbm_layers[0].W.numpy()\n",
        "# learned_weights_layer_2 = dbn_emnist.rbm_layers[1].W.numpy()\n",
        "\n",
        "# learned_weights_layer_1 = _apply_threshold(learned_weights_layer_1, 0)\n",
        "# learned_weights_layer_2 = _apply_threshold(learned_weights_layer_2, 0)\n",
        "\n",
        "# learned_weights_product = (learned_weights_layer_1 @ learned_weights_layer_2).T  # here we do the projection\n",
        "# learned_weights_product = _apply_threshold(learned_weights_product, 0)\n",
        "\n",
        "# _plot_layer_receptive_fields(learned_weights_product)"
      ]
    },
    {
      "cell_type": "markdown",
      "metadata": {
        "id": "ghSjxynwf1os"
      },
      "source": [
        "## Clustering internal representations"
      ]
    },
    {
      "cell_type": "markdown",
      "metadata": {
        "id": "tUWrkfD0Uijv"
      },
      "source": [
        "Then, we want to examine the properties of the learned representations. Therefore, we will compute the centroid of the representations learned for each class, and see how close they are one to the other using a standard hierarchical clustering algorithm."
      ]
    },
    {
      "cell_type": "markdown",
      "metadata": {
        "id": "Ur4OxcGsVCau"
      },
      "source": [
        "This implementation of the `DBN` contains internally several `RBM` objects. Therefore, we will need to compute the hidden representation using the weights of each `RBM` contained in the `DBN`."
      ]
    },
    {
      "cell_type": "code",
      "execution_count": 26,
      "metadata": {
        "id": "_s-KOvMCqqIs"
      },
      "outputs": [],
      "source": [
        "def _get_kth_layer_repr(input, k):\n",
        "  flattened_input = input.view((input.shape[0], -1)).type(torch.FloatTensor)\n",
        "  hidden_repr, __ = dbn_emnist.rbm_layers[k].to_hidden(flattened_input)  # here we access the RBM object\n",
        "  return hidden_repr"
      ]
    },
    {
      "cell_type": "markdown",
      "metadata": {
        "id": "HUbEffdAXNp2"
      },
      "source": [
        "Of course, the representations computed using the second layer receive as input those of the first one:"
      ]
    },
    {
      "cell_type": "code",
      "execution_count": 27,
      "metadata": {
        "id": "nZSAg4ICramO"
      },
      "outputs": [],
      "source": [
        "hidden_repr_layer_1 = _get_kth_layer_repr(emnist_data_train, 0)\n",
        "hidden_repr_layer_2 = _get_kth_layer_repr(hidden_repr_layer_1, 1)"
      ]
    },
    {
      "cell_type": "markdown",
      "metadata": {
        "id": "HDxpUTVIXbuu"
      },
      "source": [
        "Finally, we compute the centroid (mean) of the representations of each class and we build a matrix containing all the centroids to comply with the input required by the clustering algorithm."
      ]
    },
    {
      "cell_type": "code",
      "execution_count": 28,
      "metadata": {
        "id": "QygEqcN04dDI"
      },
      "outputs": [],
      "source": [
        "def _get_mask(label):  # we use this function to filter by class\n",
        "  labels = emnist_targets_train.numpy()\n",
        "  return labels == label\n",
        "\n",
        "def _get_label_to_mean_hidd_repr(hidden_representation):\n",
        "  hidden_representation_np = hidden_representation.numpy()\n",
        "  return {\n",
        "    label: hidden_representation_np[_get_mask(label)].mean(axis=0)  # here we filter by class and compute the mean\n",
        "    for label in range(nclasses)\n",
        "  }\n",
        "\n",
        "def _get_hidden_reprs_matrix(label_to_mean_hidd_repr):  # we use this to build the matrices\n",
        "  return np.concatenate(\n",
        "    [np.expand_dims(label_to_mean_hidd_repr[label], axis=0)  # here we adjust the shape of centroids to do the concat\n",
        "    for label in range(nclasses)])"
      ]
    },
    {
      "cell_type": "code",
      "execution_count": 29,
      "metadata": {
        "id": "5hsUbZc9wvrk"
      },
      "outputs": [],
      "source": [
        "label_to_mean_hidd_repr_1 = _get_label_to_mean_hidd_repr(hidden_repr_layer_1)\n",
        "label_to_mean_hidd_repr_2 = _get_label_to_mean_hidd_repr(hidden_repr_layer_2)"
      ]
    },
    {
      "cell_type": "code",
      "execution_count": 30,
      "metadata": {
        "id": "ZjRS_nhz3j16"
      },
      "outputs": [],
      "source": [
        "mean_hidd_repr_matrix_1 = _get_hidden_reprs_matrix(label_to_mean_hidd_repr_1)\n",
        "mean_hidd_repr_matrix_2 = _get_hidden_reprs_matrix(label_to_mean_hidd_repr_2)"
      ]
    },
    {
      "cell_type": "markdown",
      "metadata": {
        "id": "NnqYCsx6ZR4s"
      },
      "source": [
        "Now we can run the clustering algorithm and visualize it output in a dendrogram plot."
      ]
    },
    {
      "cell_type": "code",
      "execution_count": 31,
      "metadata": {
        "id": "_kjYdu2P5pSs"
      },
      "outputs": [],
      "source": [
        "def _plot_dendrogram(mean_repr_matrix, title=\"\"):\n",
        "  fig, ax = plt.subplots()\n",
        "  linkage = cluster.hierarchy.linkage(mean_repr_matrix, method=\"complete\")  # we run the clustering algorithm here\n",
        "  dendrogram = cluster.hierarchy.dendrogram(linkage)\n",
        "  ax.set_title(title)"
      ]
    },
    {
      "cell_type": "code",
      "execution_count": 32,
      "metadata": {
        "colab": {
          "base_uri": "https://localhost:8080/",
          "height": 282
        },
        "id": "P2ADg6YL9MZy",
        "outputId": "f3f5c4ff-b1d5-4f69-d414-9c832c5a4009"
      },
      "outputs": [
        {
          "output_type": "display_data",
          "data": {
            "image/png": "[encoded data removed]",
            "text/plain": [
              "<Figure size 432x288 with 1 Axes>"
            ]
          },
          "metadata": {
            "needs_background": "light"
          }
        }
      ],
      "source": [
        "_plot_dendrogram(mean_hidd_repr_matrix_1, \"First hidden layer\")"
      ]
    },
    {
      "cell_type": "code",
      "execution_count": 33,
      "metadata": {
        "colab": {
          "base_uri": "https://localhost:8080/",
          "height": 282
        },
        "id": "sOsFvlUo9Q1T",
        "outputId": "a1c68d82-f2b8-4c18-f5f9-6509d70ba93a"
      },
      "outputs": [
        {
          "output_type": "display_data",
          "data": {
            "image/png": "[encoded data removed]",
            "text/plain": [
              "<Figure size 432x288 with 1 Axes>"
            ]
          },
          "metadata": {
            "needs_background": "light"
          }
        }
      ],
      "source": [
        "_plot_dendrogram(mean_hidd_repr_matrix_2, \"Second hidden layer\")"
      ]
    },
    {
      "cell_type": "markdown",
      "metadata": {
        "id": "g5Uap6Cb8nt5"
      },
      "source": [
        "## Linear read-out"
      ]
    },
    {
      "cell_type": "code",
      "execution_count": 34,
      "metadata": {
        "id": "9wt9mcCs8ps4"
      },
      "outputs": [],
      "source": [
        "last_layer_size = dbn_emnist.rbm_layers[-1].W.shape[0]\n",
        "\n",
        "class Perceptron(torch.nn.Module):\n",
        "  def __init__(self):\n",
        "    super().__init__()\n",
        "    self.linear = torch.nn.Linear(last_layer_size, 47) # changed to EMNIST Balanced number of classes 47\n",
        "\n",
        "  def forward(self, x):\n",
        "    return self.linear(x)"
      ]
    },
    {
      "cell_type": "code",
      "execution_count": 35,
      "metadata": {
        "id": "5CcFTqiG9ixZ"
      },
      "outputs": [],
      "source": [
        "perceptron = Perceptron()"
      ]
    },
    {
      "cell_type": "code",
      "execution_count": 36,
      "metadata": {
        "colab": {
          "base_uri": "https://localhost:8080/"
        },
        "id": "niGjCsML-Mfs",
        "outputId": "c27801b3-fb6c-4e4d-a599-b39a2cf53475"
      },
      "outputs": [
        {
          "output_type": "stream",
          "name": "stdout",
          "text": [
            "epoch : 0/1000, loss = 3.858897\n",
            "epoch : 100/1000, loss = 2.919368\n",
            "epoch : 200/1000, loss = 2.385778\n",
            "epoch : 300/1000, loss = 2.071493\n",
            "epoch : 400/1000, loss = 1.874367\n",
            "epoch : 500/1000, loss = 1.741445\n",
            "epoch : 600/1000, loss = 1.645794\n",
            "epoch : 700/1000, loss = 1.573222\n",
            "epoch : 800/1000, loss = 1.515817\n",
            "epoch : 900/1000, loss = 1.468907\n"
          ]
        }
      ],
      "source": [
        "optimizer = torch.optim.SGD(perceptron.parameters(), lr=0.05)\n",
        "loss_fn = torch.nn.CrossEntropyLoss()\n",
        "epochs = 1000\n",
        "print_every_n_epochs = 100 if epochs >= 1000 else 10\n",
        "\n",
        "for epoch in range(epochs):\n",
        "  optimizer.zero_grad()\n",
        "  predictions = perceptron(hidden_repr_layer_2).squeeze()\n",
        "  targets = emnist_targets_train.reshape(predictions.shape[0])\n",
        "  loss = loss_fn(predictions, targets)\n",
        "  loss.backward()\n",
        "  optimizer.step()\n",
        "\n",
        "  if epoch % print_every_n_epochs == 0:\n",
        "    print(\"epoch : {}/{}, loss = {:.6f}\".format(epoch, epochs, loss))"
      ]
    },
    {
      "cell_type": "markdown",
      "metadata": {
        "id": "7ec81rbB4KE1"
      },
      "source": [
        "Let's now build the representation for the test set we kept apart at the beginning:"
      ]
    },
    {
      "cell_type": "code",
      "execution_count": 37,
      "metadata": {
        "id": "MohZzHsn4J0w"
      },
      "outputs": [],
      "source": [
        "hidden_repr_layer_1_test = _get_kth_layer_repr(emnist_data_test, 0)\n",
        "hidden_repr_layer_2_test = _get_kth_layer_repr(hidden_repr_layer_1_test, 1)"
      ]
    },
    {
      "cell_type": "code",
      "execution_count": 38,
      "metadata": {
        "id": "Ez6nYhz2AMxZ"
      },
      "outputs": [],
      "source": [
        "predictions_test = perceptron(hidden_repr_layer_2_test)"
      ]
    },
    {
      "cell_type": "code",
      "execution_count": 39,
      "metadata": {
        "id": "SF7bLJ6J7vTn"
      },
      "outputs": [],
      "source": [
        "def _compute_accuracy(predictions, targets):\n",
        "  predictions_indices = predictions_test.max(axis=1).indices  # convert probabilities to indices\n",
        "  accuracy = (predictions_indices == emnist_targets_test).sum() / len(emnist_targets_test)\n",
        "  return accuracy.item()"
      ]
    },
    {
      "cell_type": "code",
      "execution_count": 40,
      "metadata": {
        "colab": {
          "base_uri": "https://localhost:8080/"
        },
        "id": "w_oiM73r64IE",
        "outputId": "22575cf1-e7ce-4aec-b322-33afb92ba7dc"
      },
      "outputs": [
        {
          "output_type": "execute_result",
          "data": {
            "text/plain": [
              "0.6315000057220459"
            ]
          },
          "metadata": {},
          "execution_count": 40
        }
      ],
      "source": [
        "_compute_accuracy(predictions_test, emnist_targets_test)"
      ]
    },
    {
      "cell_type": "markdown",
      "metadata": {
        "id": "6L5i8MWcJwtQ"
      },
      "source": [
        "# LAB 2"
      ]
    },
    {
      "cell_type": "markdown",
      "metadata": {
        "id": "KFH9JijnJwtQ"
      },
      "source": [
        "Train all data"
      ]
    },
    {
      "cell_type": "code",
      "source": [
        "dbn_emnist = DBN(visible_units=28*28,\n",
        "                hidden_units=[500],\n",
        "                k=1,\n",
        "                learning_rate=0.1,\n",
        "                learning_rate_decay=False,\n",
        "                initial_momentum=0.5,\n",
        "                final_momentum=0.9,\n",
        "                weight_decay=0.0002,\n",
        "                xavier_init=False,\n",
        "                increase_to_cd_k=False,\n",
        "                # use_gpu=False)\n",
        "                use_gpu=True)"
      ],
      "metadata": {
        "id": "_aYo4u8nNkwY"
      },
      "execution_count": 41,
      "outputs": []
    },
    {
      "cell_type": "code",
      "execution_count": 42,
      "metadata": {
        "colab": {
          "base_uri": "https://localhost:8080/"
        },
        "id": "HtNx43ptJwtR",
        "outputId": "c5c3d4f0-c1da-4761-fac2-845c2faeef94"
      },
      "outputs": [
        {
          "output_type": "stream",
          "name": "stdout",
          "text": [
            "--------------------\n",
            "Training RBM layer 1\n",
            "|Epoch |avg_rec_err |std_rec_err  |mean_grad |std_grad  |\n",
            "|10    |1.2751   |0.0383   |311.2659 |6.8444   |\n",
            "|20    |1.2130   |0.0372   |292.2679 |5.6251   |\n",
            "|30    |1.1940   |0.0353   |285.6981 |5.3934   |\n",
            "|40    |1.1855   |0.0348   |282.0770 |5.4295   |\n"
          ]
        }
      ],
      "source": [
        "num_epochs = 40\n",
        "batch_size = 125\n",
        "\n",
        "dbn_emnist.train_static(\n",
        "    emnist_train.data,\n",
        "    emnist_train.targets,\n",
        "    num_epochs,\n",
        "    batch_size\n",
        ")"
      ]
    },
    {
      "cell_type": "markdown",
      "metadata": {
        "id": "6zRN90izXq9A"
      },
      "source": [
        "## Linear readouts"
      ]
    },
    {
      "cell_type": "code",
      "execution_count": 43,
      "metadata": {
        "id": "XPdeZrN0JwtR"
      },
      "outputs": [],
      "source": [
        "def _move_parameters_to_cpu(dbn_emnist):\n",
        "  for layer in dbn_emnist.rbm_layers:\n",
        "    layer.W = layer.W.cpu()\n",
        "    layer.h_bias = layer.h_bias.cpu()\n",
        "    layer.v_bias = layer.v_bias.cpu()"
      ]
    },
    {
      "cell_type": "code",
      "execution_count": 44,
      "metadata": {
        "id": "ptIz15puJwtR"
      },
      "outputs": [],
      "source": [
        "_move_parameters_to_cpu(dbn_emnist)"
      ]
    },
    {
      "cell_type": "markdown",
      "metadata": {
        "id": "UI68htznZWBW"
      },
      "source": [
        "Let's first compute the hidden representations:"
      ]
    },
    {
      "cell_type": "code",
      "execution_count": 45,
      "metadata": {
        "id": "ZMI235ewJwtS"
      },
      "outputs": [],
      "source": [
        "def _get_kth_layer_repr(input, k):\n",
        "  flattened_input = input.view((input.shape[0], -1)).type(torch.FloatTensor)\n",
        "  hidden_repr, __ = dbn_emnist.rbm_layers[k].to_hidden(flattened_input)  # here we access the RBM object\n",
        "  return hidden_repr"
      ]
    },
    {
      "cell_type": "code",
      "execution_count": 46,
      "metadata": {
        "id": "Kr1n48nLJwtS"
      },
      "outputs": [],
      "source": [
        "hidden_repr_layer_1 = _get_kth_layer_repr(emnist_train.data, 0)"
      ]
    },
    {
      "cell_type": "code",
      "execution_count": 47,
      "metadata": {
        "id": "xW-2zrfMJwtS"
      },
      "outputs": [],
      "source": [
        "class Perceptron(torch.nn.Module):\n",
        "  def __init__(self, rbm_layer_size):\n",
        "    super().__init__()\n",
        "    self.linear = torch.nn.Linear(rbm_layer_size, nclasses)\n",
        "\n",
        "  def forward(self, x):\n",
        "    return self.linear(x)"
      ]
    },
    {
      "cell_type": "markdown",
      "metadata": {
        "id": "Wi4FlrRMYgus"
      },
      "source": [
        "### First hidden layer representations"
      ]
    },
    {
      "cell_type": "markdown",
      "metadata": {
        "id": "zu3kjq3MY2xz"
      },
      "source": [
        "Let's train the readout layer:"
      ]
    },
    {
      "cell_type": "code",
      "execution_count": 48,
      "metadata": {
        "id": "9JsAil4MJwtT"
      },
      "outputs": [],
      "source": [
        "def _train(network, input, epochs=1000):\n",
        "  print_every_n_epochs = 100 if epochs >= 1000 else 10\n",
        "  optimizer = torch.optim.SGD(network.parameters(), lr=0.05)\n",
        "  loss_fn = torch.nn.CrossEntropyLoss()\n",
        "\n",
        "  for epoch in range(epochs):\n",
        "    optimizer.zero_grad()\n",
        "    predictions = network(input).squeeze()\n",
        "    loss = loss_fn(predictions, emnist_train.targets)\n",
        "    loss.backward()\n",
        "    optimizer.step()\n",
        "    if epoch % print_every_n_epochs == 0:\n",
        "      print(\"epoch {}/{}, loss = {:.6f}\".format(epoch, epochs, loss))"
      ]
    },
    {
      "cell_type": "code",
      "execution_count": 49,
      "metadata": {
        "colab": {
          "base_uri": "https://localhost:8080/"
        },
        "id": "sTtrhqqxJwtT",
        "outputId": "982dd79b-252c-4d4c-a67c-c99666487a9c"
      },
      "outputs": [
        {
          "output_type": "stream",
          "name": "stdout",
          "text": [
            "epoch 0/1500, loss = 3.881119\n",
            "epoch 100/1500, loss = 2.864200\n",
            "epoch 200/1500, loss = 2.312044\n",
            "epoch 300/1500, loss = 1.995068\n",
            "epoch 400/1500, loss = 1.799303\n",
            "epoch 500/1500, loss = 1.668462\n",
            "epoch 600/1500, loss = 1.574749\n",
            "epoch 700/1500, loss = 1.503800\n",
            "epoch 800/1500, loss = 1.447722\n",
            "epoch 900/1500, loss = 1.401897\n",
            "epoch 1000/1500, loss = 1.363463\n",
            "epoch 1100/1500, loss = 1.330557\n",
            "epoch 1200/1500, loss = 1.301912\n",
            "epoch 1300/1500, loss = 1.276635\n",
            "epoch 1400/1500, loss = 1.254076\n"
          ]
        }
      ],
      "source": [
        "rbm_layer_size = dbn_emnist.rbm_layers[0].W.shape[1]\n",
        "perceptron_first_hidden = Perceptron(rbm_layer_size)\n",
        "_train(perceptron_first_hidden, hidden_repr_layer_1, epochs=1500)"
      ]
    },
    {
      "cell_type": "markdown",
      "metadata": {
        "id": "EdpbUP0QYwkV"
      },
      "source": [
        "Let's test it on the hold-out dataset:"
      ]
    },
    {
      "cell_type": "code",
      "execution_count": 50,
      "metadata": {
        "id": "Q0AqBdZyJwtT"
      },
      "outputs": [],
      "source": [
        "hidden_repr_layer_1_test = _get_kth_layer_repr(emnist_test.data, 0)"
      ]
    },
    {
      "cell_type": "code",
      "execution_count": 51,
      "metadata": {
        "id": "RwC9tUCWJwtT"
      },
      "outputs": [],
      "source": [
        "predictions_first_hidden = perceptron_first_hidden(hidden_repr_layer_1_test)"
      ]
    },
    {
      "cell_type": "code",
      "execution_count": 52,
      "metadata": {
        "id": "RHnmtyraJwtT"
      },
      "outputs": [],
      "source": [
        "def _compute_accuracy(predictions, targets):\n",
        "  predictions_indices = predictions.max(axis=1).indices  # convert probabilities to indices\n",
        "  accuracy = (predictions_indices == targets).sum() / len(targets)\n",
        "  return accuracy.item()"
      ]
    },
    {
      "cell_type": "code",
      "execution_count": 53,
      "metadata": {
        "colab": {
          "base_uri": "https://localhost:8080/"
        },
        "id": "Nhq6-U46JwtU",
        "outputId": "7b13c3c6-f39e-4a85-ff34-ff1755c24c12"
      },
      "outputs": [
        {
          "output_type": "execute_result",
          "data": {
            "text/plain": [
              "0.6685638427734375"
            ]
          },
          "metadata": {},
          "execution_count": 53
        }
      ],
      "source": [
        "_compute_accuracy(predictions_first_hidden, emnist_test.targets)"
      ]
    },
    {
      "cell_type": "markdown",
      "metadata": {
        "id": "690R4NNKfNhW"
      },
      "source": [
        "## Comparison with a feedforward model"
      ]
    },
    {
      "cell_type": "markdown",
      "metadata": {
        "id": "9CYrA1XsgYxG"
      },
      "source": [
        "Let's now train a simple feedforward neural network with the same structure as the RBM, i.e. with one hidden layer with `500` units.\n",
        "\n",
        "We want to compare a network that is trained end-to-end to solve a classification task with a simple classifier that solves the same task using representations of input data learned in an *unsupervised* way."
      ]
    },
    {
      "cell_type": "code",
      "execution_count": 54,
      "metadata": {
        "id": "AhRotpfVJwtU"
      },
      "outputs": [],
      "source": [
        "# class Feedforward(torch.nn.Module):\n",
        "#   def __init__(self, first_hidden_layer_size):\n",
        "#     super().__init__()\n",
        "#     self.first_hidden = torch.nn.Linear(784, first_hidden_layer_size)\n",
        "#     self.output = torch.nn.Linear(first_hidden_layer_size, nclasses)\n",
        "\n",
        "#   def forward(self, input):\n",
        "#     relu = torch.nn.ReLU()\n",
        "#     first_hidden_repr = relu(self.first_hidden(input))\n",
        "#     output = self.output(first_hidden_repr)\n",
        "#     return output\n",
        "class Feedforward(torch.nn.Module):\n",
        "  def __init__(self, first_hidden_layer_size):\n",
        "    super().__init__()\n",
        "    self.first_hidden = torch.nn.Linear(784, first_hidden_layer_size)\n",
        "    self.output = torch.nn.Linear(first_hidden_layer_size, nclasses)\n",
        "\n",
        "  def forward(self, input):\n",
        "    input = input.view((input.shape[0], -1))\n",
        "    relu = torch.nn.ReLU()\n",
        "    first_hidden_repr = relu(self.first_hidden(input))\n",
        "    output = self.output(first_hidden_repr)\n",
        "    return output"
      ]
    },
    {
      "cell_type": "code",
      "execution_count": 55,
      "metadata": {
        "id": "-t9pFxVDJwtU"
      },
      "outputs": [],
      "source": [
        "ffnn = Feedforward(500)"
      ]
    },
    {
      "cell_type": "markdown",
      "metadata": {
        "id": "nmueBeBECUUA"
      },
      "source": [
        "We choose the number of epochs to match the training time of the RBM and the readout layer combined."
      ]
    },
    {
      "cell_type": "code",
      "execution_count": 56,
      "metadata": {
        "colab": {
          "base_uri": "https://localhost:8080/"
        },
        "id": "ngCbl18ZJwtV",
        "outputId": "2cbb0118-81f4-441e-a4d5-ccde35d36d49"
      },
      "outputs": [
        {
          "output_type": "stream",
          "name": "stdout",
          "text": [
            "epoch 0/120, loss = 3.857345\n",
            "epoch 10/120, loss = 3.823199\n",
            "epoch 20/120, loss = 3.789434\n",
            "epoch 30/120, loss = 3.754468\n",
            "epoch 40/120, loss = 3.717049\n",
            "epoch 50/120, loss = 3.676270\n",
            "epoch 60/120, loss = 3.631509\n",
            "epoch 70/120, loss = 3.582449\n",
            "epoch 80/120, loss = 3.528893\n",
            "epoch 90/120, loss = 3.470743\n",
            "epoch 100/120, loss = 3.408046\n",
            "epoch 110/120, loss = 3.340972\n"
          ]
        }
      ],
      "source": [
        "temp = emnist_train.data.size()[0]\n",
        "_train(ffnn, emnist_train.data.reshape((temp, 784)), epochs=120)"
      ]
    },
    {
      "cell_type": "code",
      "execution_count": 57,
      "metadata": {
        "id": "nS4HJ6FBJwtV"
      },
      "outputs": [],
      "source": [
        "predictions_ffnn = ffnn(emnist_test.data.reshape((round(temp/6), 784)))"
      ]
    },
    {
      "cell_type": "code",
      "execution_count": 58,
      "metadata": {
        "colab": {
          "base_uri": "https://localhost:8080/"
        },
        "id": "UbN2lh9NJwtV",
        "outputId": "b9cb6b41-994a-45fa-c186-9ea0cb22ce23"
      },
      "outputs": [
        {
          "output_type": "execute_result",
          "data": {
            "text/plain": [
              "0.38712766766548157"
            ]
          },
          "metadata": {},
          "execution_count": 58
        }
      ],
      "source": [
        "_compute_accuracy(predictions_ffnn, emnist_test.targets)"
      ]
    },
    {
      "cell_type": "markdown",
      "metadata": {
        "id": "73eq5eNPv4xZ"
      },
      "source": [
        "## Robustness to noise"
      ]
    },
    {
      "cell_type": "markdown",
      "metadata": {
        "id": "oitTC0d4v6sx"
      },
      "source": [
        "We will now inject some noise in the input images and see how much the representations learned by the RBM are robust to noise."
      ]
    },
    {
      "cell_type": "code",
      "execution_count": 59,
      "metadata": {
        "id": "SNAX_4ulJwtW"
      },
      "outputs": [],
      "source": [
        "def _inject_noise(emnist_data, noise_level):\n",
        "  random_gaussian_tensor = torch.randn(emnist_data.shape)/6.6 + .6\n",
        "  probability_tensor = torch.ones(emnist_data.shape)*noise_level\n",
        "  mask_tensor = torch.bernoulli(probability_tensor)\n",
        "  return emnist_data - mask_tensor * emnist_data + mask_tensor * random_gaussian_tensor"
      ]
    },
    {
      "cell_type": "markdown",
      "metadata": {
        "id": "A0tSj95s0HfR"
      },
      "source": [
        "Let's see what a noisy image looks like:"
      ]
    },
    {
      "cell_type": "code",
      "execution_count": 60,
      "metadata": {
        "colab": {
          "base_uri": "https://localhost:8080/",
          "height": 265
        },
        "id": "no4O50wWJwtX",
        "outputId": "221aa8d6-da00-46e2-bbd2-03b5bf2bf5a6"
      },
      "outputs": [
        {
          "output_type": "display_data",
          "data": {
            "image/png": "[encoded data removed]",
            "text/plain": [
              "<Figure size 432x288 with 1 Axes>"
            ]
          },
          "metadata": {
            "needs_background": "light"
          }
        }
      ],
      "source": [
        "noise_level = 0.3\n",
        "emnist_test_with_noise = _inject_noise(emnist_test.data, noise_level)\n",
        "__ = plt.imshow(emnist_test_with_noise[0].reshape(28, 28), cmap=\"gray\")"
      ]
    },
    {
      "cell_type": "markdown",
      "metadata": {
        "id": "IO9V8x1CiaR4"
      },
      "source": [
        "We will now compute the hidden representations for the noisy images using the RBM. Then, we will use the models that we trained on the representations without noise to classify the noisy ones."
      ]
    },
    {
      "cell_type": "code",
      "execution_count": 61,
      "metadata": {
        "id": "Squmf__qJwtY"
      },
      "outputs": [],
      "source": [
        "temp2 = round(temp/6)\n",
        "def _get_accuracy_values_at_noise_level(noise_level):\n",
        "  emnist_test_with_noise = _inject_noise(emnist_test.data, noise_level)\n",
        "  hidden_repr_layer_1_noisy = _get_kth_layer_repr(emnist_test_with_noise, 0)  # here we compute the representations\n",
        "  predictions_first_hidden_noisy = perceptron_first_hidden(hidden_repr_layer_1_noisy)  # here we use the readout layer\n",
        "  predictions_ffnn_noisy = ffnn(emnist_test_with_noise.reshape((temp2, 784)))\n",
        "  accuracy_first_hidden = _compute_accuracy(predictions_first_hidden_noisy, emnist_test.targets)\n",
        "  accuracy_ffnn = _compute_accuracy(predictions_ffnn_noisy, emnist_test.targets)\n",
        "  return accuracy_first_hidden, accuracy_ffnn"
      ]
    },
    {
      "cell_type": "code",
      "execution_count": 62,
      "metadata": {
        "colab": {
          "base_uri": "https://localhost:8080/"
        },
        "id": "WkSQQzDlJwtZ",
        "outputId": "67262a4b-97dc-4546-9145-177c9015defe"
      },
      "outputs": [
        {
          "output_type": "execute_result",
          "data": {
            "text/plain": [
              "(0.49372339248657227, 0.3191489279270172)"
            ]
          },
          "metadata": {},
          "execution_count": 62
        }
      ],
      "source": [
        "_get_accuracy_values_at_noise_level(0.2)"
      ]
    },
    {
      "cell_type": "markdown",
      "metadata": {
        "id": "dKZPC2Wx0rH_"
      },
      "source": [
        "Let's now get an overview of the robustness of the representations to different levels of noise:"
      ]
    },
    {
      "cell_type": "code",
      "execution_count": 63,
      "metadata": {
        "id": "Jdmfmh0nJwtZ"
      },
      "outputs": [],
      "source": [
        "def plot_noise_robustness_curves(noise_levels):\n",
        "  accuracy_values_first_hidden = []\n",
        "  accuracy_values_ffnn = []\n",
        "\n",
        "  for noise_level in noise_levels:\n",
        "    accuracy_first_hidden, accuracy_ffnn = _get_accuracy_values_at_noise_level(noise_level)\n",
        "    accuracy_values_first_hidden.append(accuracy_first_hidden)\n",
        "    accuracy_values_ffnn.append(accuracy_ffnn)\n",
        "\n",
        "  fig, ax = plt.subplots()\n",
        "  ax.plot(range(len(noise_levels)), accuracy_values_first_hidden)\n",
        "  ax.plot(range(len(noise_levels)), accuracy_values_ffnn)\n",
        "\n",
        "  ax.set_title(\"Robustness to noise\")\n",
        "  ax.set_xlabel(\"Noise level (%)\")\n",
        "  ax.set_ylabel(\"Accuracy\")\n",
        "  plt.xticks(range(len(noise_levels)), [int(l*100) for l in noise_levels])\n",
        "  plt.legend([\"First hidden\", \"FFNN\"])"
      ]
    },
    {
      "cell_type": "code",
      "execution_count": 64,
      "metadata": {
        "colab": {
          "base_uri": "https://localhost:8080/",
          "height": 295
        },
        "id": "9WAAPQLYJwtZ",
        "outputId": "6e195d29-bed6-4d2e-9ad5-66c683ef3a24"
      },
      "outputs": [
        {
          "output_type": "display_data",
          "data": {
            "image/png": "[encoded data removed]",
            "text/plain": [
              "<Figure size 432x288 with 1 Axes>"
            ]
          },
          "metadata": {
            "needs_background": "light"
          }
        }
      ],
      "source": [
        "noise_levels = [0, 0.1, 0.2, 0.3, 0.4, 0.5]\n",
        "plot_noise_robustness_curves(noise_levels)"
      ]
    },
    {
      "cell_type": "markdown",
      "metadata": {
        "id": "VcDe47iaJwta"
      },
      "source": [
        "# LAB 3"
      ]
    },
    {
      "cell_type": "code",
      "execution_count": 65,
      "metadata": {
        "id": "UMKVpVG5Jwta"
      },
      "outputs": [],
      "source": [
        "train_size = emnist_train.data.size()[0]\n",
        "test_size = emnist_test.data.size()[0]"
      ]
    },
    {
      "cell_type": "code",
      "execution_count": 66,
      "metadata": {
        "id": "bGStUaW0Jwta"
      },
      "outputs": [],
      "source": [
        "device = torch.device(\"cpu\")"
      ]
    },
    {
      "cell_type": "markdown",
      "metadata": {
        "id": "6SMR7wczaios"
      },
      "source": [
        "## Adversarial attacks"
      ]
    },
    {
      "cell_type": "markdown",
      "metadata": {
        "id": "uV4JT4poGoCY"
      },
      "source": [
        "### Fast gradient sign method"
      ]
    },
    {
      "cell_type": "markdown",
      "metadata": {
        "id": "mupwAJWJalgf"
      },
      "source": [
        "Reference: https://jaketae.github.io/study/fgsm/\n",
        "\n",
        "In general, with adversarial attacks we need to modify the input so that the model cannot correctly classify it anymore. This means that the loss for that specific input has to increase.\n",
        "\n",
        "The loss is usually a function of the input, the model's parameters and the outputs: $J(w, x, y)$.\n",
        "\n",
        "When we are training the model, we modify the model's weights based on the value of the gradient of the loss function, using the opposite direction w.r.t. the gradient because we want the loss to decrease. To create an adversarial sample we change two things in this procedure: \n",
        "1. we modify the input instead of the model's weights;\n",
        "2. we go in the same direction as the gradient, since we want the loss function to increase.\n",
        "\n",
        "The adversarial sample will then look like:\n",
        "\n",
        "$\\tilde{x} = x + \\epsilon \\cdot \\text{sign}(\\nabla_{x} J(w, x, y))$"
      ]
    },
    {
      "cell_type": "code",
      "execution_count": 67,
      "metadata": {
        "id": "soS6k2X_Jwtf"
      },
      "outputs": [],
      "source": [
        "def fgsm_attack(image, epsilon, data_grad):\n",
        "    # Collect the element-wise sign of the data gradient\n",
        "    sign_data_grad = data_grad.sign()\n",
        "\n",
        "    # Create the perturbed image by adjusting each pixel of the input image\n",
        "    perturbed_image = image + epsilon*sign_data_grad\n",
        "\n",
        "    # Adding clipping to maintain [0,1] range\n",
        "    perturbed_image = torch.clamp(perturbed_image, 0, 1)\n",
        "\n",
        "    # Return the perturbed image\n",
        "    return perturbed_image"
      ]
    },
    {
      "cell_type": "markdown",
      "metadata": {
        "id": "KjnRDAHpchBD"
      },
      "source": [
        "### Adversarial samples"
      ]
    },
    {
      "cell_type": "code",
      "execution_count": 68,
      "metadata": {
        "id": "PsI1TpvqJwtf"
      },
      "outputs": [],
      "source": [
        "class DBNWithReadOut(torch.nn.Module):\n",
        "    def __init__(self, dbn_emnist, perceptron):\n",
        "        super().__init__()\n",
        "        self.readout = perceptron\n",
        "        self.dbn_emnist = dbn_emnist\n",
        "\n",
        "    def forward(self, image):\n",
        "        x, __ = self.dbn_emnist.forward(image)\n",
        "        x = self.readout.forward(x)\n",
        "        return x"
      ]
    },
    {
      "cell_type": "code",
      "execution_count": 69,
      "metadata": {
        "id": "fF40tL7wJwtg"
      },
      "outputs": [],
      "source": [
        "dbn_with_readout = DBNWithReadOut(dbn_emnist, perceptron_first_hidden)"
      ]
    },
    {
      "cell_type": "markdown",
      "metadata": {
        "id": "WTcPTOhQxu5T"
      },
      "source": [
        "Let's see what an adversiarial sample looks like. Let't take one sample from the test set:"
      ]
    },
    {
      "cell_type": "code",
      "execution_count": 70,
      "metadata": {
        "colab": {
          "base_uri": "https://localhost:8080/",
          "height": 265
        },
        "id": "JOrproFKJwtg",
        "outputId": "fbf4e9ab-cb04-4532-9631-f304a9c86941"
      },
      "outputs": [
        {
          "output_type": "display_data",
          "data": {
            "image/png": "[encoded data removed]",
            "text/plain": [
              "<Figure size 432x288 with 1 Axes>"
            ]
          },
          "metadata": {
            "needs_background": "light"
          }
        }
      ],
      "source": [
        "test_image = emnist_test.data[7].reshape(1, 28, 28)\n",
        "__ = plt.imshow(test_image.reshape(28,28))"
      ]
    },
    {
      "cell_type": "markdown",
      "metadata": {
        "id": "OYjBCsLwyBCu"
      },
      "source": [
        "Now let's classify this image using a model, and modify the image to attack the network. To change the model we attack, you can modify the value of the `model` variable in the cell below (choosing between `ffnn` and `dbn_with_readout`)."
      ]
    },
    {
      "cell_type": "code",
      "execution_count": 71,
      "metadata": {
        "id": "bapmNfPqJwtg"
      },
      "outputs": [],
      "source": [
        "ffnn = Feedforward(500)\n",
        "# _train(ffnn, emnist_train.data, epochs=120)\n",
        "attacked_model = ffnn"
      ]
    },
    {
      "cell_type": "code",
      "execution_count": 72,
      "metadata": {
        "colab": {
          "base_uri": "https://localhost:8080/"
        },
        "id": "jFOV3_2RJwth",
        "outputId": "03b60d13-a35c-49c3-dc55-3761e509d34d"
      },
      "outputs": [
        {
          "output_type": "stream",
          "name": "stdout",
          "text": [
            "The prediction of the model for this sample is 33.\n"
          ]
        }
      ],
      "source": [
        "test_image.requires_grad = True\n",
        "model_outputs = attacked_model(test_image)\n",
        "prediction = torch.argmax(model_outputs)\n",
        "print(f\"The prediction of the model for this sample is {prediction}.\")\n",
        "\n",
        "test_image_label = emnist_test.targets[:1]\n",
        "loss_value = torch.nn.functional.cross_entropy(model_outputs, test_image_label)\n",
        "attacked_model.zero_grad()\n",
        "loss_value.backward()\n",
        "image_grad = test_image.grad.data\n",
        "perturbed_image = fgsm_attack(test_image, 0.2, image_grad)"
      ]
    },
    {
      "cell_type": "markdown",
      "metadata": {
        "id": "6-Wjvo4ZydZS"
      },
      "source": [
        "Let's look at the adversarial sample:"
      ]
    },
    {
      "cell_type": "code",
      "execution_count": 73,
      "metadata": {
        "colab": {
          "base_uri": "https://localhost:8080/",
          "height": 265
        },
        "id": "tNWJthWVJwth",
        "outputId": "4ce970d7-d212-4342-f573-a4b71a8d4f86"
      },
      "outputs": [
        {
          "output_type": "display_data",
          "data": {
            "image/png": "[encoded data removed]",
            "text/plain": [
              "<Figure size 432x288 with 1 Axes>"
            ]
          },
          "metadata": {
            "needs_background": "light"
          }
        }
      ],
      "source": [
        "perturbed_image_np = perturbed_image.detach().numpy()\n",
        "__ = plt.imshow(perturbed_image_np.reshape(28,28))"
      ]
    },
    {
      "cell_type": "code",
      "execution_count": 74,
      "metadata": {
        "colab": {
          "base_uri": "https://localhost:8080/"
        },
        "id": "5ul1xG54Jwth",
        "outputId": "8fb7d814-4dd7-4805-de64-8bfce6ff418e"
      },
      "outputs": [
        {
          "output_type": "stream",
          "name": "stdout",
          "text": [
            "The prediction of the model for the perturbed sample is 43.\n"
          ]
        }
      ],
      "source": [
        "model_outputs = attacked_model(perturbed_image.view((perturbed_image.shape[0], -1)))\n",
        "print(f\"The prediction of the model for the perturbed sample is {torch.argmax(model_outputs)}.\")"
      ]
    },
    {
      "cell_type": "markdown",
      "metadata": {
        "id": "Z5akVTqsck-l"
      },
      "source": [
        "### Resisting to adversarial attacks"
      ]
    },
    {
      "cell_type": "markdown",
      "metadata": {
        "id": "rah2Uo4GJOuM"
      },
      "source": [
        "Let's now compare the ability to resist to adversarial attacks of our two models: the feedforward network and the RBM.\n",
        "\n",
        "We will also test the ability of the RBM to reduce the impact of the attack by performing one or more reconstruction steps, from the hidden representation to the visible units, and back to the hidden representation."
      ]
    },
    {
      "cell_type": "code",
      "execution_count": 75,
      "metadata": {
        "id": "Ab40xmibJwti"
      },
      "outputs": [],
      "source": [
        "def test_robustness_to_attack(model, device, test_loader, epsilon, num_steps=0, verbose=True):\n",
        "    correct = 0\n",
        "    print_reconstruction = num_steps > 0\n",
        "\n",
        "    for data, target in tqdm.tqdm(test_loader):\n",
        "        data, target = data.to(device), target.to(device)\n",
        "        data = data.reshape(1, 28, 28)\n",
        "        data.requires_grad = True  # Important for Attack\n",
        "\n",
        "        output = model.forward(data)\n",
        "\n",
        "        init_pred = torch.argmax(output)\n",
        "        # If the initial prediction is wrong, dont bother attacking, just move on\n",
        "        if init_pred.item() != target.item():\n",
        "            continue\n",
        "\n",
        "        if (print_reconstruction and verbose):\n",
        "          print(\"\\nHere's the original sample:\\n\")\n",
        "          plt.imshow(data.detach().numpy().reshape(28,28))\n",
        "          plt.show()\n",
        "\n",
        "        loss = functional.nll_loss(output, target)\n",
        "        model.zero_grad()\n",
        "        loss.backward()\n",
        "        data_grad = data.grad.data  # collect the gradient of the input data\n",
        "        perturbed_data = fgsm_attack(data, epsilon, data_grad)\n",
        "\n",
        "        if (print_reconstruction and verbose):\n",
        "            print(\"\\nHere's a perturbed sample:\\n\")\n",
        "            plt.imshow(perturbed_data.detach().numpy().reshape(28,28))\n",
        "            plt.show()\n",
        "\n",
        "\n",
        "        # If requested, reconstruct the input iterating forward-backward dynamics\n",
        "        if num_steps > 0:\n",
        "            for __ in range(0, num_steps):\n",
        "                perturbed_data, __ = model.dbn_emnist.reconstruct(perturbed_data)\n",
        "            if (print_reconstruction and verbose):\n",
        "                print(f\"\\nHere's what a {num_steps}-steps reconstructed sample looks like:\\n\")\n",
        "                plt.imshow(perturbed_data.detach().numpy().reshape(28,28))\n",
        "                plt.show()\n",
        "                print_reconstruction = False\n",
        "\n",
        "        # Re-classify the perturbed image\n",
        "        output = model(perturbed_data)\n",
        "\n",
        "        # Check for success\n",
        "        # get the index of the max element in the output\n",
        "        final_pred = output.max(1, keepdim=True)[1]\n",
        "        if final_pred.item() == target.item():\n",
        "            correct += 1\n",
        "\n",
        "    # Calculate final accuracy for this epsilon\n",
        "    final_acc = correct/float(len(test_loader))\n",
        "    if verbose:\n",
        "      print(\"\\nEpsilon: {}\\tTest Accuracy = {} / {} = {}\\n\".format(epsilon,\n",
        "            correct, len(test_loader), final_acc))\n",
        "\n",
        "    return final_acc"
      ]
    },
    {
      "cell_type": "code",
      "execution_count": 76,
      "metadata": {
        "id": "hLbpQQWbJwti"
      },
      "outputs": [],
      "source": [
        "test_loader = torch.utils.data.DataLoader(\n",
        "    tv.datasets.EMNIST('data/','balanced', train=False, download=False, transform=tv.transforms.Compose([\n",
        "        tv.transforms.ToTensor(),\n",
        "    ])),\n",
        "    batch_size=1, shuffle=True)"
      ]
    },
    {
      "cell_type": "markdown",
      "metadata": {
        "id": "c7su_8C-9UWr"
      },
      "source": [
        "Let's see how good the FFNN does:"
      ]
    },
    {
      "cell_type": "code",
      "execution_count": 77,
      "metadata": {
        "colab": {
          "base_uri": "https://localhost:8080/"
        },
        "id": "AW0F9o5DJwti",
        "outputId": "f727f55a-c821-4866-e393-d6e78dcb01d7"
      },
      "outputs": [
        {
          "output_type": "stream",
          "name": "stderr",
          "text": [
            "100%|██████████| 18800/18800 [00:08<00:00, 2238.07it/s]"
          ]
        },
        {
          "output_type": "stream",
          "name": "stdout",
          "text": [
            "\n",
            "Epsilon: 0.1\tTest Accuracy = 0 / 18800 = 0.0\n",
            "\n"
          ]
        },
        {
          "output_type": "stream",
          "name": "stderr",
          "text": [
            "\n"
          ]
        }
      ],
      "source": [
        "final_acc = test_robustness_to_attack(ffnn, device,\n",
        "                                      test_loader, epsilon=0.1,\n",
        "                                      num_steps=0)"
      ]
    },
    {
      "cell_type": "markdown",
      "metadata": {
        "id": "6KCv-ASM4UBK"
      },
      "source": [
        "Let's now compare compare the hidden representations of the RBM:"
      ]
    },
    {
      "cell_type": "code",
      "execution_count": 78,
      "metadata": {
        "colab": {
          "base_uri": "https://localhost:8080/"
        },
        "id": "IRajNkCbJwtj",
        "outputId": "278a6d4c-1498-4bc8-bb6a-8c42a8af8577"
      },
      "outputs": [
        {
          "output_type": "stream",
          "name": "stderr",
          "text": [
            "100%|██████████| 18800/18800 [00:18<00:00, 1004.21it/s]"
          ]
        },
        {
          "output_type": "stream",
          "name": "stdout",
          "text": [
            "\n",
            "Epsilon: 0.1\tTest Accuracy = 5595 / 18800 = 0.2976063829787234\n",
            "\n"
          ]
        },
        {
          "output_type": "stream",
          "name": "stderr",
          "text": [
            "\n"
          ]
        }
      ],
      "source": [
        "final_acc = test_robustness_to_attack(dbn_with_readout, device,\n",
        "                                      test_loader, epsilon=0.1, \n",
        "                                      num_steps=0)"
      ]
    },
    {
      "cell_type": "markdown",
      "metadata": {
        "id": "yh4t-U6w9XzM"
      },
      "source": [
        "Now let's test the reconstruction power of the generative model:"
      ]
    },
    {
      "cell_type": "code",
      "execution_count": 79,
      "metadata": {
        "colab": {
          "base_uri": "https://localhost:8080/",
          "height": 987
        },
        "id": "iTNTFg_MJwtj",
        "outputId": "9b1c67da-090a-47b0-c3e0-39e543a7b3d1"
      },
      "outputs": [
        {
          "output_type": "stream",
          "name": "stderr",
          "text": [
            "\r  0%|          | 0/18800 [00:00<?, ?it/s]"
          ]
        },
        {
          "output_type": "stream",
          "name": "stdout",
          "text": [
            "\n",
            "Here's the original sample:\n",
            "\n"
          ]
        },
        {
          "output_type": "display_data",
          "data": {
            "image/png": "[encoded data removed]",
            "text/plain": [
              "<Figure size 432x288 with 1 Axes>"
            ]
          },
          "metadata": {
            "needs_background": "light"
          }
        },
        {
          "output_type": "stream",
          "name": "stdout",
          "text": [
            "\n",
            "Here's a perturbed sample:\n",
            "\n"
          ]
        },
        {
          "output_type": "display_data",
          "data": {
            "image/png": "[encoded data removed]",
            "text/plain": [
              "<Figure size 432x288 with 1 Axes>"
            ]
          },
          "metadata": {
            "needs_background": "light"
          }
        },
        {
          "output_type": "stream",
          "name": "stdout",
          "text": [
            "\n",
            "Here's what a 1-steps reconstructed sample looks like:\n",
            "\n"
          ]
        },
        {
          "output_type": "display_data",
          "data": {
            "image/png": "[encoded data removed]",
            "text/plain": [
              "<Figure size 432x288 with 1 Axes>"
            ]
          },
          "metadata": {
            "needs_background": "light"
          }
        },
        {
          "output_type": "stream",
          "name": "stderr",
          "text": [
            "100%|██████████| 18800/18800 [00:24<00:00, 763.92it/s]"
          ]
        },
        {
          "output_type": "stream",
          "name": "stdout",
          "text": [
            "\n",
            "Epsilon: 0.1\tTest Accuracy = 7390 / 18800 = 0.3930851063829787\n",
            "\n"
          ]
        },
        {
          "output_type": "stream",
          "name": "stderr",
          "text": [
            "\n"
          ]
        }
      ],
      "source": [
        "final_acc = test_robustness_to_attack(dbn_with_readout, device,\n",
        "                                      test_loader, epsilon=0.1,\n",
        "                                      num_steps=1)"
      ]
    },
    {
      "cell_type": "markdown",
      "metadata": {
        "id": "WCdXdcRUfbYT"
      },
      "source": [
        "### Effect of the parameter $\\epsilon$"
      ]
    },
    {
      "cell_type": "markdown",
      "metadata": {
        "id": "MDZ_O5L0JRUR"
      },
      "source": [
        "Let's compare the robustness of each model to adversarial attacks of different \"strengths\":"
      ]
    },
    {
      "cell_type": "code",
      "execution_count": 80,
      "metadata": {
        "id": "XkMtWbL9Jwtk"
      },
      "outputs": [],
      "source": [
        "epsilon_values = [0, .05, .1, .15, .2, .25]\n",
        "\n",
        "def test_epsilon_values_effect(model, n_steps):\n",
        "  accuracies = list()\n",
        "\n",
        "  for eps in epsilon_values:\n",
        "      acc = test_robustness_to_attack(model, device, test_loader, eps, num_steps=n_steps, verbose=False)\n",
        "      accuracies.append(acc)\n",
        "\n",
        "  return accuracies"
      ]
    },
    {
      "cell_type": "code",
      "execution_count": 81,
      "metadata": {
        "id": "zECN6R5ZJwtk"
      },
      "outputs": [],
      "source": [
        "%%capture\n",
        "accuracies_ffnn = test_epsilon_values_effect(ffnn, n_steps=0)\n",
        "accuracies_rbm_0 = test_epsilon_values_effect(dbn_with_readout, n_steps=0)\n",
        "accuracies_rbm_1 = test_epsilon_values_effect(dbn_with_readout, n_steps=1)\n",
        "accuracies_rbm_2 = test_epsilon_values_effect(dbn_with_readout, n_steps=2)"
      ]
    },
    {
      "cell_type": "code",
      "execution_count": 82,
      "metadata": {
        "colab": {
          "base_uri": "https://localhost:8080/",
          "height": 295
        },
        "id": "DE5J0WZAJwtk",
        "outputId": "060e1785-2d6a-4ea1-9cde-eb64a0044142"
      },
      "outputs": [
        {
          "output_type": "display_data",
          "data": {
            "image/png": "[encoded data removed]",
            "text/plain": [
              "<Figure size 432x288 with 1 Axes>"
            ]
          },
          "metadata": {
            "needs_background": "light"
          }
        }
      ],
      "source": [
        "fig, ax = plt.subplots(1, 1, figsize=(6,4), sharey=True)\n",
        "\n",
        "__ = ax.plot(epsilon_values, accuracies_ffnn)\n",
        "__ = ax.plot(epsilon_values, accuracies_rbm_0)\n",
        "__ = ax.plot(epsilon_values, accuracies_rbm_1)\n",
        "__ = ax.plot(epsilon_values, accuracies_rbm_2)\n",
        "__ = ax.set_xlabel(\"$\\epsilon$\")\n",
        "__ = ax.set_ylabel(\"Accuracy\")\n",
        "__ = ax.set_title(\"Robustness to adversarial attacks\")\n",
        "__ = ax.legend([\"FFNN\", \"RBM 0-steps\", \"RBM 1-steps\",\"RBM 2-steps\"])"
      ]
    }
  ],
  "metadata": {
    "accelerator": "GPU",
    "colab": {
      "collapsed_sections": [],
      "name": "Essay.ipynb",
      "provenance": []
    },
    "interpreter": {
      "hash": "dca0ade3e726a953b501b15e8e990130d2b7799f14cfd9f4271676035ebe5511"
    },
    "kernelspec": {
      "display_name": "Python 3.8.8 64-bit ('base': conda)",
      "name": "python3"
    },
    "language_info": {
      "codemirror_mode": {
        "name": "ipython",
        "version": 3
      },
      "file_extension": ".py",
      "mimetype": "text/x-python",
      "name": "python",
      "nbconvert_exporter": "python",
      "pygments_lexer": "ipython3",
      "version": "3.8.10"
    }
  },
  "nbformat": 4,
  "nbformat_minor": 0
}