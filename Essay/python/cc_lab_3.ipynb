{
  "cells": [
    {
      "cell_type": "markdown",
      "metadata": {
        "id": "_5hUhU_laWdH"
      },
      "source": [
        "# Cognition & Computation - Lab 3 ----- CHANGED TO USE EMNIST BALANCED"
      ]
    },
    {
      "cell_type": "code",
      "execution_count": 1,
      "metadata": {
        "id": "i3Jgkp7KAcKl"
      },
      "outputs": [],
      "source": [
        "def _get_files_from_repo(files, repo):\n",
        "  repository_url = f\"https://raw.githubusercontent.com/flavio2018/{repo}/master/\"\n",
        "  for file in files:\n",
        "    ! wget -O {file} {repository_url}{file}"
      ]
    },
    {
      "cell_type": "code",
      "execution_count": 2,
      "metadata": {
        "id": "gJPbuuDSAth_"
      },
      "outputs": [],
      "source": [
        "%%capture\n",
        "files = [\"DBN.py\", \"RBM.py\"]\n",
        "_get_files_from_repo(files, \"Deep-Belief-Network-pytorch\")"
      ]
    },
    {
      "cell_type": "code",
      "execution_count": 3,
      "metadata": {
        "id": "Ilb0ecFRBUv8"
      },
      "outputs": [],
      "source": [
        "import matplotlib.pyplot as plt\n",
        "import torch\n",
        "import torch.nn.functional as functional\n",
        "import torchvision as tv\n",
        "import tqdm\n",
        "\n",
        "from DBN import DBN"
      ]
    },
    {
      "cell_type": "markdown",
      "metadata": {
        "id": "SPnozyVxBFju"
      },
      "source": [
        "## EMNIST dataset"
      ]
    },
    {
      "cell_type": "code",
      "execution_count": 4,
      "metadata": {
        "id": "MyoFQzR9BRDT"
      },
      "outputs": [],
      "source": [
        "%%capture\n",
        "emnist_train = tv.datasets.EMNIST('data/', 'balanced' ,train=True, download=True,\n",
        "                                         transform=tv.transforms.Compose(\n",
        "                                                  [tv.transforms.ToTensor()]\n",
        "                                         ))\n",
        "\n",
        "emnist_test = tv.datasets.EMNIST(\"data/\", 'balanced',\n",
        "                                train=False,\n",
        "                                download=True,\n",
        "                                transform=tv.transforms.Compose(\n",
        "                                        [tv.transforms.ToTensor()]\n",
        "                                ))"
      ]
    },
    {
      "cell_type": "code",
      "execution_count": 5,
      "metadata": {
        "id": "C28fFlaABSws"
      },
      "outputs": [],
      "source": [
        "emnist_train.data = (emnist_train.data.type(torch.FloatTensor)/255)\n",
        "emnist_test.data = (emnist_test.data.type(torch.FloatTensor)/255)\n",
        "\n",
        "nclasses = 47"
      ]
    },
    {
      "cell_type": "code",
      "execution_count": 6,
      "metadata": {
        "id": "YLCyIIS4IyAX"
      },
      "outputs": [],
      "source": [
        "device = torch.device(\"cpu\")"
      ]
    },
    {
      "cell_type": "markdown",
      "metadata": {
        "id": "D3mQDbPHBtQI"
      },
      "source": [
        "## Models training"
      ]
    },
    {
      "cell_type": "markdown",
      "metadata": {
        "id": "36EjxqUKB_J2"
      },
      "source": [
        "### RBM"
      ]
    },
    {
      "cell_type": "code",
      "execution_count": 10,
      "metadata": {
        "id": "SBWXVpfkYI2Q"
      },
      "outputs": [],
      "source": [
        "dbn_emnist = DBN(visible_units=28*28,\n",
        "                hidden_units=[500],\n",
        "                k=1,\n",
        "                learning_rate=0.1,\n",
        "                learning_rate_decay=False,\n",
        "                initial_momentum=0.5,\n",
        "                final_momentum=0.9,\n",
        "                weight_decay=0.0002,\n",
        "                xavier_init=False,\n",
        "                increase_to_cd_k=False,\n",
        "                # use_gpu=False)\n",
        "                use_gpu=True)"
      ]
    },
    {
      "cell_type": "code",
      "execution_count": 11,
      "metadata": {
        "colab": {
          "base_uri": "https://localhost:8080/"
        },
        "id": "0BfmZ39NYLTV",
        "outputId": "6a3477ea-e92f-4f61-cf05-609aab0d477a"
      },
      "outputs": [
        {
          "output_type": "stream",
          "name": "stdout",
          "text": [
            "--------------------\n",
            "Training RBM layer 1\n",
            "|Epoch |avg_rec_err |std_rec_err  |mean_grad |std_grad  |\n",
            "|10    |1.2743   |0.0389   |310.1598 |6.2287   |\n",
            "|20    |1.2154   |0.0368   |291.8535 |5.8035   |\n",
            "|30    |1.1952   |0.0346   |285.8269 |5.9669   |\n",
            "|40    |1.1863   |0.0352   |282.5311 |5.3419   |\n"
          ]
        }
      ],
      "source": [
        "num_epochs = 40\n",
        "batch_size = 125\n",
        "\n",
        "dbn_emnist.train_static(\n",
        "    emnist_train.data,\n",
        "    emnist_train.targets,\n",
        "    num_epochs,\n",
        "    batch_size\n",
        ")"
      ]
    },
    {
      "cell_type": "code",
      "execution_count": 12,
      "metadata": {
        "id": "eT7tvmKN3-DN"
      },
      "outputs": [],
      "source": [
        "def _move_parameters_to_cpu(dbn_emnist):\n",
        "  for layer in dbn_emnist.rbm_layers:\n",
        "    layer.W = layer.W.cpu()\n",
        "    layer.h_bias = layer.h_bias.cpu()\n",
        "    layer.v_bias = layer.v_bias.cpu()"
      ]
    },
    {
      "cell_type": "code",
      "execution_count": 13,
      "metadata": {
        "id": "GgFm6jE44AZi"
      },
      "outputs": [],
      "source": [
        "_move_parameters_to_cpu(dbn_emnist)"
      ]
    },
    {
      "cell_type": "markdown",
      "metadata": {
        "id": "zu3kjq3MY2xz"
      },
      "source": [
        "### Readout layer"
      ]
    },
    {
      "cell_type": "code",
      "execution_count": 14,
      "metadata": {
        "id": "YITxqUDaZVa-"
      },
      "outputs": [],
      "source": [
        "def _get_kth_layer_repr(input, k):\n",
        "  flattened_input = input.view((input.shape[0], -1)).type(torch.FloatTensor)\n",
        "  hidden_repr, __ = dbn_emnist.rbm_layers[k].to_hidden(flattened_input)  # here we access the RBM object\n",
        "  return hidden_repr"
      ]
    },
    {
      "cell_type": "code",
      "execution_count": 15,
      "metadata": {
        "id": "UZ-6JyECcVdM"
      },
      "outputs": [],
      "source": [
        "def _train(network, input, epochs=1000, device=device):\n",
        "  print_every_n_epochs = 100 if epochs >= 1000 else 10\n",
        "  optimizer = torch.optim.SGD(network.parameters(), lr=0.05)\n",
        "  loss_fn = torch.nn.CrossEntropyLoss()\n",
        "  targets_on_device = emnist_train.targets.to(device)\n",
        "\n",
        "  for epoch in range(epochs):\n",
        "    optimizer.zero_grad()\n",
        "    predictions = network(input)\n",
        "    loss = loss_fn(predictions, targets_on_device)\n",
        "    loss.backward()\n",
        "    optimizer.step()\n",
        "    if epoch % print_every_n_epochs == 0:\n",
        "      print(\"epoch {}/{}, loss = {:.6f}\".format(epoch, epochs, loss))"
      ]
    },
    {
      "cell_type": "code",
      "execution_count": 19,
      "metadata": {
        "id": "igZyDYmrBkGK"
      },
      "outputs": [],
      "source": [
        "class Perceptron(torch.nn.Module):\n",
        "  def __init__(self, rbm_layer_size):\n",
        "    super().__init__()\n",
        "    self.linear = torch.nn.Linear(rbm_layer_size, nclasses)\n",
        "\n",
        "  def forward(self, x):\n",
        "    return self.linear(x)"
      ]
    },
    {
      "cell_type": "code",
      "execution_count": 20,
      "metadata": {
        "id": "zUv7HoQ3Dykm"
      },
      "outputs": [],
      "source": [
        "hidden_repr_layer_1 = _get_kth_layer_repr(emnist_train.data, 0)"
      ]
    },
    {
      "cell_type": "code",
      "execution_count": 21,
      "metadata": {
        "colab": {
          "base_uri": "https://localhost:8080/"
        },
        "id": "-Z9mkfGCd5A9",
        "outputId": "d35aafb4-99d1-437c-8a55-b50af71ede75"
      },
      "outputs": [
        {
          "output_type": "stream",
          "name": "stdout",
          "text": [
            "epoch 0/1500, loss = 3.891203\n",
            "epoch 100/1500, loss = 2.875575\n",
            "epoch 200/1500, loss = 2.317254\n",
            "epoch 300/1500, loss = 1.997376\n",
            "epoch 400/1500, loss = 1.800410\n",
            "epoch 500/1500, loss = 1.669064\n",
            "epoch 600/1500, loss = 1.575128\n",
            "epoch 700/1500, loss = 1.504078\n",
            "epoch 800/1500, loss = 1.447951\n",
            "epoch 900/1500, loss = 1.402097\n",
            "epoch 1000/1500, loss = 1.363642\n",
            "epoch 1100/1500, loss = 1.330715\n",
            "epoch 1200/1500, loss = 1.302047\n",
            "epoch 1300/1500, loss = 1.276743\n",
            "epoch 1400/1500, loss = 1.254155\n"
          ]
        }
      ],
      "source": [
        "rbm_layer_size = dbn_emnist.rbm_layers[0].W.shape[1]\n",
        "perceptron_first_hidden = Perceptron(rbm_layer_size)\n",
        "_train(perceptron_first_hidden, hidden_repr_layer_1, epochs=1500)"
      ]
    },
    {
      "cell_type": "markdown",
      "metadata": {
        "id": "4Z7O7LWfCGsm"
      },
      "source": [
        "### Feedforward model"
      ]
    },
    {
      "cell_type": "code",
      "execution_count": 22,
      "metadata": {
        "id": "4vvpvET2CL3w"
      },
      "outputs": [],
      "source": [
        "class Feedforward(torch.nn.Module):\n",
        "  def __init__(self, first_hidden_layer_size):\n",
        "    super().__init__()\n",
        "    self.first_hidden = torch.nn.Linear(784, first_hidden_layer_size)\n",
        "    self.output = torch.nn.Linear(first_hidden_layer_size, nclasses)\n",
        "\n",
        "  def forward(self, input):\n",
        "    input = input.view((input.shape[0], -1))\n",
        "    relu = torch.nn.ReLU()\n",
        "    first_hidden_repr = relu(self.first_hidden(input))\n",
        "    output = self.output(first_hidden_repr)\n",
        "    return output"
      ]
    },
    {
      "cell_type": "code",
      "execution_count": 23,
      "metadata": {
        "id": "Upl8aiD-gqP3"
      },
      "outputs": [],
      "source": [
        "ffnn = Feedforward(500)"
      ]
    },
    {
      "cell_type": "markdown",
      "metadata": {
        "id": "-azREaCpvIY0"
      },
      "source": [
        "235 sec"
      ]
    },
    {
      "cell_type": "code",
      "execution_count": 24,
      "metadata": {
        "colab": {
          "base_uri": "https://localhost:8080/"
        },
        "id": "ccEZ2ZMFiBrX",
        "outputId": "99a16667-989f-4d33-d8fd-775906204689"
      },
      "outputs": [
        {
          "output_type": "stream",
          "name": "stdout",
          "text": [
            "epoch 0/120, loss = 3.863339\n",
            "epoch 10/120, loss = 3.830951\n",
            "epoch 20/120, loss = 3.798905\n",
            "epoch 30/120, loss = 3.765579\n",
            "epoch 40/120, loss = 3.729863\n",
            "epoch 50/120, loss = 3.690935\n",
            "epoch 60/120, loss = 3.648234\n",
            "epoch 70/120, loss = 3.601318\n",
            "epoch 80/120, loss = 3.549883\n",
            "epoch 90/120, loss = 3.493715\n",
            "epoch 100/120, loss = 3.432725\n",
            "epoch 110/120, loss = 3.366986\n"
          ]
        }
      ],
      "source": [
        "_train(ffnn, emnist_train.data, epochs=120)"
      ]
    },
    {
      "cell_type": "markdown",
      "metadata": {
        "id": "6SMR7wczaios"
      },
      "source": [
        "## Adversarial attacks"
      ]
    },
    {
      "cell_type": "markdown",
      "metadata": {
        "id": "uV4JT4poGoCY"
      },
      "source": [
        "### Fast gradient sign method"
      ]
    },
    {
      "cell_type": "markdown",
      "metadata": {
        "id": "mupwAJWJalgf"
      },
      "source": [
        "Reference: https://jaketae.github.io/study/fgsm/\n",
        "\n",
        "In general, with adversarial attacks we need to modify the input so that the model cannot correctly classify it anymore. This means that the loss for that specific input has to increase.\n",
        "\n",
        "The loss is usually a function of the input, the model's parameters and the outputs: $J(w, x, y)$.\n",
        "\n",
        "When we are training the model, we modify the model's weights based on the value of the gradient of the loss function, using the opposite direction w.r.t. the gradient because we want the loss to decrease. To create an adversarial sample we change two things in this procedure: \n",
        "1. we modify the input instead of the model's weights;\n",
        "2. we go in the same direction as the gradient, since we want the loss function to increase.\n",
        "\n",
        "The adversarial sample will then look like:\n",
        "\n",
        "$\\tilde{x} = x + \\epsilon \\cdot \\text{sign}(\\nabla_{x} J(w, x, y))$"
      ]
    },
    {
      "cell_type": "code",
      "execution_count": 25,
      "metadata": {
        "id": "f_Rw2ywr0cJd"
      },
      "outputs": [],
      "source": [
        "def fgsm_attack(image, epsilon, data_grad):\n",
        "    # Collect the element-wise sign of the data gradient\n",
        "    sign_data_grad = data_grad.sign()\n",
        "\n",
        "    # Create the perturbed image by adjusting each pixel of the input image\n",
        "    perturbed_image = image + epsilon*sign_data_grad\n",
        "\n",
        "    # Adding clipping to maintain [0,1] range\n",
        "    perturbed_image = torch.clamp(perturbed_image, 0, 1)\n",
        "\n",
        "    # Return the perturbed image\n",
        "    return perturbed_image"
      ]
    },
    {
      "cell_type": "markdown",
      "metadata": {
        "id": "KjnRDAHpchBD"
      },
      "source": [
        "### Adversarial samples"
      ]
    },
    {
      "cell_type": "code",
      "execution_count": 26,
      "metadata": {
        "id": "GNH21-AVKSPD"
      },
      "outputs": [],
      "source": [
        "class DBNWithReadOut(torch.nn.Module):\n",
        "    def __init__(self, dbn_emnist, perceptron):\n",
        "        super().__init__()\n",
        "        self.readout = perceptron\n",
        "        self.dbn_emnist = dbn_emnist\n",
        "\n",
        "    def forward(self, image):\n",
        "        x, __ = self.dbn_emnist.forward(image)\n",
        "        x = self.readout.forward(x)\n",
        "        return x"
      ]
    },
    {
      "cell_type": "code",
      "execution_count": 27,
      "metadata": {
        "id": "i9ZeTZTzKywc"
      },
      "outputs": [],
      "source": [
        "dbn_with_readout = DBNWithReadOut(dbn_emnist, perceptron_first_hidden)"
      ]
    },
    {
      "cell_type": "markdown",
      "metadata": {
        "id": "WTcPTOhQxu5T"
      },
      "source": [
        "Let's see what an adversiarial sample looks like. Let't take one sample from the test set:"
      ]
    },
    {
      "cell_type": "code",
      "execution_count": 28,
      "metadata": {
        "colab": {
          "base_uri": "https://localhost:8080/",
          "height": 265
        },
        "id": "0OH3ZLHKx42A",
        "outputId": "a085effe-89e4-48b1-83ae-93285272f0c4"
      },
      "outputs": [
        {
          "output_type": "display_data",
          "data": {
            "image/png": "[encoded data removed]",
            "text/plain": [
              "<Figure size 432x288 with 1 Axes>"
            ]
          },
          "metadata": {
            "needs_background": "light"
          }
        }
      ],
      "source": [
        "test_image = emnist_test.data[7].reshape(1, 28, 28)\n",
        "__ = plt.imshow(test_image.reshape(28,28))"
      ]
    },
    {
      "cell_type": "markdown",
      "metadata": {
        "id": "OYjBCsLwyBCu"
      },
      "source": [
        "Now let's classify this image using a model, and modify the image to attack the network. To change the model we attack, you can modify the value of the `model` variable in the cell below (choosing between `ffnn` and `dbn_with_readout`)."
      ]
    },
    {
      "cell_type": "code",
      "execution_count": 29,
      "metadata": {
        "id": "WYOfVYmGedKJ"
      },
      "outputs": [],
      "source": [
        "attacked_model = ffnn"
      ]
    },
    {
      "cell_type": "code",
      "execution_count": 30,
      "metadata": {
        "colab": {
          "base_uri": "https://localhost:8080/"
        },
        "id": "TmChPDsCpU63",
        "outputId": "7f344b89-914f-4bcf-efbf-ae2d5410f8f1"
      },
      "outputs": [
        {
          "output_type": "stream",
          "name": "stdout",
          "text": [
            "The prediction of the model for this sample is 10.\n"
          ]
        }
      ],
      "source": [
        "test_image.requires_grad = True\n",
        "model_outputs = attacked_model(test_image)\n",
        "prediction = torch.argmax(model_outputs)\n",
        "print(f\"The prediction of the model for this sample is {prediction}.\")\n",
        "\n",
        "test_image_label = emnist_test.targets[:1]\n",
        "loss_value = torch.nn.functional.cross_entropy(model_outputs, test_image_label)\n",
        "attacked_model.zero_grad()\n",
        "loss_value.backward()\n",
        "image_grad = test_image.grad.data\n",
        "perturbed_image = fgsm_attack(test_image, 0.2, image_grad)"
      ]
    },
    {
      "cell_type": "markdown",
      "metadata": {
        "id": "6-Wjvo4ZydZS"
      },
      "source": [
        "Let's look at the adversarial sample:"
      ]
    },
    {
      "cell_type": "code",
      "execution_count": 31,
      "metadata": {
        "colab": {
          "base_uri": "https://localhost:8080/",
          "height": 265
        },
        "id": "gM4T-mibycM4",
        "outputId": "0b5f3811-c86d-48da-8c22-2a1ffc607b40"
      },
      "outputs": [
        {
          "output_type": "display_data",
          "data": {
            "image/png": "[encoded data removed]",
            "text/plain": [
              "<Figure size 432x288 with 1 Axes>"
            ]
          },
          "metadata": {
            "needs_background": "light"
          }
        }
      ],
      "source": [
        "perturbed_image_np = perturbed_image.detach().numpy()\n",
        "__ = plt.imshow(perturbed_image_np.reshape(28,28))"
      ]
    },
    {
      "cell_type": "code",
      "execution_count": 32,
      "metadata": {
        "colab": {
          "base_uri": "https://localhost:8080/"
        },
        "id": "vAAt6zmSynJw",
        "outputId": "9fb46745-4211-4ec9-b3fe-4a14c394fa66"
      },
      "outputs": [
        {
          "output_type": "stream",
          "name": "stdout",
          "text": [
            "The prediction of the model for the perturbed sample is 23.\n"
          ]
        }
      ],
      "source": [
        "model_outputs = attacked_model(perturbed_image.view((perturbed_image.shape[0], -1)))\n",
        "print(f\"The prediction of the model for the perturbed sample is {torch.argmax(model_outputs)}.\")"
      ]
    },
    {
      "cell_type": "markdown",
      "metadata": {
        "id": "Z5akVTqsck-l"
      },
      "source": [
        "### Resisting to adversarial attacks"
      ]
    },
    {
      "cell_type": "markdown",
      "metadata": {
        "id": "rah2Uo4GJOuM"
      },
      "source": [
        "Let's now compare the ability to resist to adversarial attacks of our two models: the feedforward network and the RBM.\n",
        "\n",
        "We will also test the ability of the RBM to reduce the impact of the attack by performing one or more reconstruction steps, from the hidden representation to the visible units, and back to the hidden representation."
      ]
    },
    {
      "cell_type": "code",
      "execution_count": 33,
      "metadata": {
        "id": "YAfO5CHP0cvr"
      },
      "outputs": [],
      "source": [
        "def test_robustness_to_attack(model, device, test_loader, epsilon, num_steps=0, verbose=True):\n",
        "    correct = 0\n",
        "    print_reconstruction = num_steps > 0\n",
        "\n",
        "    for data, target in tqdm.tqdm(test_loader):\n",
        "        data, target = data.to(device), target.to(device)\n",
        "        data = data.reshape(1, 28, 28)\n",
        "        data.requires_grad = True  # Important for Attack\n",
        "\n",
        "        output = model.forward(data)\n",
        "\n",
        "        init_pred = torch.argmax(output)\n",
        "        # If the initial prediction is wrong, dont bother attacking, just move on\n",
        "        if init_pred.item() != target.item():\n",
        "            continue\n",
        "\n",
        "        if (print_reconstruction and verbose):\n",
        "          print(\"\\nHere's the original sample:\\n\")\n",
        "          plt.imshow(data.detach().numpy().reshape(28,28))\n",
        "          plt.show()\n",
        "\n",
        "        loss = functional.nll_loss(output, target)\n",
        "        model.zero_grad()\n",
        "        loss.backward()\n",
        "        data_grad = data.grad.data  # collect the gradient of the input data\n",
        "        perturbed_data = fgsm_attack(data, epsilon, data_grad)\n",
        "\n",
        "        if (print_reconstruction and verbose):\n",
        "            print(\"\\nHere's a perturbed sample:\\n\")\n",
        "            plt.imshow(perturbed_data.detach().numpy().reshape(28,28))\n",
        "            plt.show()\n",
        "\n",
        "\n",
        "        # If requested, reconstruct the input iterating forward-backward dynamics\n",
        "        if num_steps > 0:\n",
        "            for __ in range(0, num_steps):\n",
        "                perturbed_data, __ = model.dbn_emnist.reconstruct(perturbed_data)\n",
        "            if (print_reconstruction and verbose):\n",
        "                print(f\"\\nHere's what a {num_steps}-steps reconstructed sample looks like:\\n\")\n",
        "                plt.imshow(perturbed_data.detach().numpy().reshape(28,28))\n",
        "                plt.show()\n",
        "                print_reconstruction = False\n",
        "\n",
        "        # Re-classify the perturbed image\n",
        "        output = model(perturbed_data)\n",
        "\n",
        "        # Check for success\n",
        "        # get the index of the max element in the output\n",
        "        final_pred = output.max(1, keepdim=True)[1]\n",
        "        if final_pred.item() == target.item():\n",
        "            correct += 1\n",
        "\n",
        "    # Calculate final accuracy for this epsilon\n",
        "    final_acc = correct/float(len(test_loader))\n",
        "    if verbose:\n",
        "      print(\"\\nEpsilon: {}\\tTest Accuracy = {} / {} = {}\\n\".format(epsilon,\n",
        "            correct, len(test_loader), final_acc))\n",
        "\n",
        "    return final_acc"
      ]
    },
    {
      "cell_type": "code",
      "execution_count": 37,
      "metadata": {
        "id": "h-6DLRMjN92q"
      },
      "outputs": [],
      "source": [
        "test_loader = torch.utils.data.DataLoader(\n",
        "    tv.datasets.EMNIST('data/','balanced', train=False, download=False, transform=tv.transforms.Compose([\n",
        "        tv.transforms.ToTensor(),\n",
        "    ])),\n",
        "    batch_size=1, shuffle=True)"
      ]
    },
    {
      "cell_type": "markdown",
      "metadata": {
        "id": "c7su_8C-9UWr"
      },
      "source": [
        "Let's see how good the FFNN does:"
      ]
    },
    {
      "cell_type": "code",
      "execution_count": 38,
      "metadata": {
        "colab": {
          "base_uri": "https://localhost:8080/"
        },
        "id": "84LAvrtbKAOi",
        "outputId": "b133a917-87d9-4510-905d-1ed27d535087"
      },
      "outputs": [
        {
          "output_type": "stream",
          "name": "stderr",
          "text": [
            "100%|██████████| 18800/18800 [00:20<00:00, 898.27it/s]"
          ]
        },
        {
          "output_type": "stream",
          "name": "stdout",
          "text": [
            "\n",
            "Epsilon: 0.1\tTest Accuracy = 673 / 18800 = 0.03579787234042553\n",
            "\n"
          ]
        },
        {
          "output_type": "stream",
          "name": "stderr",
          "text": [
            "\n"
          ]
        }
      ],
      "source": [
        "final_acc = test_robustness_to_attack(ffnn, device,\n",
        "                                      test_loader, epsilon=0.1,\n",
        "                                      num_steps=0)"
      ]
    },
    {
      "cell_type": "markdown",
      "metadata": {
        "id": "6KCv-ASM4UBK"
      },
      "source": [
        "Let's now compare compare the hidden representations of the RBM:"
      ]
    },
    {
      "cell_type": "code",
      "execution_count": 39,
      "metadata": {
        "colab": {
          "base_uri": "https://localhost:8080/"
        },
        "id": "a3BEBuA1Im45",
        "outputId": "f3a970f6-d09d-44fb-bd71-c5648fd6c95b"
      },
      "outputs": [
        {
          "output_type": "stream",
          "name": "stderr",
          "text": [
            "100%|██████████| 18800/18800 [00:25<00:00, 742.47it/s]"
          ]
        },
        {
          "output_type": "stream",
          "name": "stdout",
          "text": [
            "\n",
            "Epsilon: 0.1\tTest Accuracy = 5591 / 18800 = 0.2973936170212766\n",
            "\n"
          ]
        },
        {
          "output_type": "stream",
          "name": "stderr",
          "text": [
            "\n"
          ]
        }
      ],
      "source": [
        "final_acc = test_robustness_to_attack(dbn_with_readout, device,\n",
        "                                      test_loader, epsilon=0.1, \n",
        "                                      num_steps=0)"
      ]
    },
    {
      "cell_type": "markdown",
      "metadata": {
        "id": "yh4t-U6w9XzM"
      },
      "source": [
        "Now let's test the reconstruction power of the generative model:"
      ]
    },
    {
      "cell_type": "code",
      "execution_count": 40,
      "metadata": {
        "colab": {
          "base_uri": "https://localhost:8080/",
          "height": 987
        },
        "id": "sLI7TRFyJ26_",
        "outputId": "f7c0f10d-b069-4d77-d13e-5ea59290763d"
      },
      "outputs": [
        {
          "output_type": "stream",
          "name": "stderr",
          "text": [
            "\r  0%|          | 0/18800 [00:00<?, ?it/s]"
          ]
        },
        {
          "output_type": "stream",
          "name": "stdout",
          "text": [
            "\n",
            "Here's the original sample:\n",
            "\n"
          ]
        },
        {
          "output_type": "display_data",
          "data": {
            "image/png": "[encoded data removed]",
            "text/plain": [
              "<Figure size 432x288 with 1 Axes>"
            ]
          },
          "metadata": {
            "needs_background": "light"
          }
        },
        {
          "output_type": "stream",
          "name": "stdout",
          "text": [
            "\n",
            "Here's a perturbed sample:\n",
            "\n"
          ]
        },
        {
          "output_type": "display_data",
          "data": {
            "image/png": "[encoded data removed]",
            "text/plain": [
              "<Figure size 432x288 with 1 Axes>"
            ]
          },
          "metadata": {
            "needs_background": "light"
          }
        },
        {
          "output_type": "stream",
          "name": "stdout",
          "text": [
            "\n",
            "Here's what a 1-steps reconstructed sample looks like:\n",
            "\n"
          ]
        },
        {
          "output_type": "display_data",
          "data": {
            "image/png": "[encoded data removed]",
            "text/plain": [
              "<Figure size 432x288 with 1 Axes>"
            ]
          },
          "metadata": {
            "needs_background": "light"
          }
        },
        {
          "output_type": "stream",
          "name": "stderr",
          "text": [
            "100%|██████████| 18800/18800 [00:33<00:00, 558.20it/s]"
          ]
        },
        {
          "output_type": "stream",
          "name": "stdout",
          "text": [
            "\n",
            "Epsilon: 0.1\tTest Accuracy = 7501 / 18800 = 0.3989893617021277\n",
            "\n"
          ]
        },
        {
          "output_type": "stream",
          "name": "stderr",
          "text": [
            "\n"
          ]
        }
      ],
      "source": [
        "final_acc = test_robustness_to_attack(dbn_with_readout, device,\n",
        "                                      test_loader, epsilon=0.1,\n",
        "                                      num_steps=1)"
      ]
    },
    {
      "cell_type": "markdown",
      "metadata": {
        "id": "WCdXdcRUfbYT"
      },
      "source": [
        "### Effect of the parameter $\\epsilon$"
      ]
    },
    {
      "cell_type": "markdown",
      "metadata": {
        "id": "MDZ_O5L0JRUR"
      },
      "source": [
        "Let's compare the robustness of each model to adversarial attacks of different \"strengths\":"
      ]
    },
    {
      "cell_type": "code",
      "execution_count": 41,
      "metadata": {
        "id": "5CN2BNHv3iDc"
      },
      "outputs": [],
      "source": [
        "epsilon_values = [0, .05, .1, .15, .2, .25]\n",
        "\n",
        "def test_epsilon_values_effect(model, n_steps):\n",
        "  accuracies = list()\n",
        "\n",
        "  for eps in epsilon_values:\n",
        "      acc = test_robustness_to_attack(model, device, test_loader, eps, num_steps=n_steps, verbose=False)\n",
        "      accuracies.append(acc)\n",
        "\n",
        "  return accuracies"
      ]
    },
    {
      "cell_type": "code",
      "execution_count": 42,
      "metadata": {
        "id": "M_tuXYTg6Eeg"
      },
      "outputs": [],
      "source": [
        "%%capture\n",
        "accuracies_ffnn = test_epsilon_values_effect(ffnn, n_steps=0)\n",
        "accuracies_rbm_0 = test_epsilon_values_effect(dbn_with_readout, n_steps=0)\n",
        "accuracies_rbm_1 = test_epsilon_values_effect(dbn_with_readout, n_steps=1)\n",
        "accuracies_rbm_2 = test_epsilon_values_effect(dbn_with_readout, n_steps=2)"
      ]
    },
    {
      "cell_type": "code",
      "execution_count": 43,
      "metadata": {
        "colab": {
          "base_uri": "https://localhost:8080/",
          "height": 295
        },
        "id": "ZtTPPywx4436",
        "outputId": "734ae32a-d96a-437a-a625-bb4d881e95ee"
      },
      "outputs": [
        {
          "output_type": "display_data",
          "data": {
            "image/png": "[encoded data removed]",
            "text/plain": [
              "<Figure size 432x288 with 1 Axes>"
            ]
          },
          "metadata": {
            "needs_background": "light"
          }
        }
      ],
      "source": [
        "fig, ax = plt.subplots(1, 1, figsize=(6,4), sharey=True)\n",
        "\n",
        "__ = ax.plot(epsilon_values, accuracies_ffnn)\n",
        "__ = ax.plot(epsilon_values, accuracies_rbm_0)\n",
        "__ = ax.plot(epsilon_values, accuracies_rbm_1)\n",
        "__ = ax.plot(epsilon_values, accuracies_rbm_2)\n",
        "__ = ax.set_xlabel(\"$\\epsilon$\")\n",
        "__ = ax.set_ylabel(\"Accuracy\")\n",
        "__ = ax.set_title(\"Robustness to adversarial attacks\")\n",
        "__ = ax.legend([\"FFNN\", \"RBM 0-steps\", \"RBM 1-steps\",\"RBM 2-steps\"])"
      ]
    },
    {
      "cell_type": "markdown",
      "metadata": {
        "id": "Tx8rFCR2afsT"
      },
      "source": [
        "## Contacts\n",
        "\n",
        "- 📧 flavio.petruzzellis@phd.unipd.it\n",
        "- 💬 [Moodle forum](https://elearning.unipd.it/math/mod/forum/view.php?id=36439)"
      ]
    }
  ],
  "metadata": {
    "accelerator": "GPU",
    "colab": {
      "collapsed_sections": [
        "uV4JT4poGoCY"
      ],
      "name": "cc-lab-3.ipynb",
      "provenance": []
    },
    "kernelspec": {
      "display_name": "Python 3",
      "name": "python3"
    },
    "language_info": {
      "codemirror_mode": {
        "name": "ipython",
        "version": 3
      },
      "file_extension": ".py",
      "mimetype": "text/x-python",
      "name": "python",
      "nbconvert_exporter": "python",
      "pygments_lexer": "ipython3",
      "version": "3.8.10"
    }
  },
  "nbformat": 4,
  "nbformat_minor": 0
}